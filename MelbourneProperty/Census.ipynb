{
 "cells": [
  {
   "cell_type": "code",
   "execution_count": null,
   "id": "7682376c",
   "metadata": {},
   "outputs": [],
   "source": [
    "import pandas as pd"
   ]
  },
  {
   "cell_type": "code",
   "execution_count": null,
   "id": "4f992530",
   "metadata": {},
   "outputs": [],
   "source": [
    "census_data=pd.read_csv(\"../VIC/2021Census_G02_VIC_POA.csv\")\n",
    "census_data.head()"
   ]
  },
  {
   "cell_type": "code",
   "execution_count": null,
   "id": "21226d3b",
   "metadata": {},
   "outputs": [],
   "source": [
    "census_data[\"POA_CODE_2021\"]=census_data[\"POA_CODE_2021\"].str.replace('POA', '')\n"
   ]
  },
  {
   "cell_type": "code",
   "execution_count": null,
   "id": "2b26b9d3",
   "metadata": {},
   "outputs": [],
   "source": [
    "census_data"
   ]
  },
  {
   "cell_type": "code",
   "execution_count": null,
   "id": "b30be62d",
   "metadata": {},
   "outputs": [],
   "source": [
    "census_data.to_csv(\"census.csv\", encoding=\"utf-8\", index=False)"
   ]
  },
  {
   "cell_type": "code",
   "execution_count": null,
   "id": "73d6b94e",
   "metadata": {},
   "outputs": [],
   "source": []
  },
  {
   "cell_type": "code",
   "execution_count": null,
   "id": "7325ccb2",
   "metadata": {},
   "outputs": [],
   "source": []
  }
 ],
 "metadata": {
  "kernelspec": {
   "display_name": "Python 3 (ipykernel)",
   "language": "python",
   "name": "python3"
  },
  "language_info": {
   "codemirror_mode": {
    "name": "ipython",
    "version": 3
   },
   "file_extension": ".py",
   "mimetype": "text/x-python",
   "name": "python",
   "nbconvert_exporter": "python",
   "pygments_lexer": "ipython3",
   "version": "3.7.7"
  }
 },
 "nbformat": 4,
 "nbformat_minor": 5
}
