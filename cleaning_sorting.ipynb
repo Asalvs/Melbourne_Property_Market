{
 "cells": [
  {
   "cell_type": "code",
   "execution_count": 39,
   "id": "c34ed674",
   "metadata": {},
   "outputs": [],
   "source": [
    "# Dependencies \n",
    "import matplotlib.pyplot as plt\n",
    "import pandas as pd\n",
    "import scipy.stats as st\n",
    "from scipy.stats import linregress\n",
    "import numpy as np\n",
    "import seaborn as sns\n",
    "import datetime as dt\n",
    "import plotly.express as px\n",
    "import plotly.graph_objs as go"
   ]
  },
  {
   "cell_type": "code",
   "execution_count": 40,
   "id": "3cfae836",
   "metadata": {},
   "outputs": [
    {
     "data": {
      "text/html": [
       "<div>\n",
       "<style scoped>\n",
       "    .dataframe tbody tr th:only-of-type {\n",
       "        vertical-align: middle;\n",
       "    }\n",
       "\n",
       "    .dataframe tbody tr th {\n",
       "        vertical-align: top;\n",
       "    }\n",
       "\n",
       "    .dataframe thead th {\n",
       "        text-align: right;\n",
       "    }\n",
       "</style>\n",
       "<table border=\"1\" class=\"dataframe\">\n",
       "  <thead>\n",
       "    <tr style=\"text-align: right;\">\n",
       "      <th></th>\n",
       "      <th>Suburb</th>\n",
       "      <th>Address</th>\n",
       "      <th>Rooms</th>\n",
       "      <th>Type</th>\n",
       "      <th>Price</th>\n",
       "      <th>Method</th>\n",
       "      <th>Real Estate Agent</th>\n",
       "      <th>Date</th>\n",
       "      <th>Distance</th>\n",
       "      <th>Postcode</th>\n",
       "      <th>...</th>\n",
       "      <th>Regionname</th>\n",
       "      <th>Propertycount</th>\n",
       "      <th>Median_age_persons</th>\n",
       "      <th>Median_mortgage_repay_monthly</th>\n",
       "      <th>Median_tot_prsnl_inc_weekly</th>\n",
       "      <th>Median_rent_weekly</th>\n",
       "      <th>Median_tot_fam_inc_weekly</th>\n",
       "      <th>Average_num_psns_per_bedroom</th>\n",
       "      <th>Median_tot_hhd_inc_weekly</th>\n",
       "      <th>Average_household_size</th>\n",
       "    </tr>\n",
       "  </thead>\n",
       "  <tbody>\n",
       "    <tr>\n",
       "      <th>0</th>\n",
       "      <td>Abbotsford</td>\n",
       "      <td>25 Bloomburg St</td>\n",
       "      <td>2</td>\n",
       "      <td>h</td>\n",
       "      <td>1035000</td>\n",
       "      <td>S</td>\n",
       "      <td>Biggin</td>\n",
       "      <td>4/02/2016</td>\n",
       "      <td>2.5</td>\n",
       "      <td>3067</td>\n",
       "      <td>...</td>\n",
       "      <td>Northern Metropolitan</td>\n",
       "      <td>4019</td>\n",
       "      <td>33</td>\n",
       "      <td>2167</td>\n",
       "      <td>1354</td>\n",
       "      <td>424</td>\n",
       "      <td>3024</td>\n",
       "      <td>1.0</td>\n",
       "      <td>2196</td>\n",
       "      <td>1.9</td>\n",
       "    </tr>\n",
       "    <tr>\n",
       "      <th>1</th>\n",
       "      <td>Abbotsford</td>\n",
       "      <td>5 Charles St</td>\n",
       "      <td>3</td>\n",
       "      <td>h</td>\n",
       "      <td>1465000</td>\n",
       "      <td>SP</td>\n",
       "      <td>Biggin</td>\n",
       "      <td>4/03/2017</td>\n",
       "      <td>2.5</td>\n",
       "      <td>3067</td>\n",
       "      <td>...</td>\n",
       "      <td>Northern Metropolitan</td>\n",
       "      <td>4019</td>\n",
       "      <td>33</td>\n",
       "      <td>2167</td>\n",
       "      <td>1354</td>\n",
       "      <td>424</td>\n",
       "      <td>3024</td>\n",
       "      <td>1.0</td>\n",
       "      <td>2196</td>\n",
       "      <td>1.9</td>\n",
       "    </tr>\n",
       "    <tr>\n",
       "      <th>2</th>\n",
       "      <td>Abbotsford</td>\n",
       "      <td>55a Park St</td>\n",
       "      <td>4</td>\n",
       "      <td>h</td>\n",
       "      <td>1600000</td>\n",
       "      <td>VB</td>\n",
       "      <td>Nelson</td>\n",
       "      <td>4/06/2016</td>\n",
       "      <td>2.5</td>\n",
       "      <td>3067</td>\n",
       "      <td>...</td>\n",
       "      <td>Northern Metropolitan</td>\n",
       "      <td>4019</td>\n",
       "      <td>33</td>\n",
       "      <td>2167</td>\n",
       "      <td>1354</td>\n",
       "      <td>424</td>\n",
       "      <td>3024</td>\n",
       "      <td>1.0</td>\n",
       "      <td>2196</td>\n",
       "      <td>1.9</td>\n",
       "    </tr>\n",
       "    <tr>\n",
       "      <th>3</th>\n",
       "      <td>Abbotsford</td>\n",
       "      <td>124 Yarra St</td>\n",
       "      <td>3</td>\n",
       "      <td>h</td>\n",
       "      <td>1876000</td>\n",
       "      <td>S</td>\n",
       "      <td>Nelson</td>\n",
       "      <td>7/05/2016</td>\n",
       "      <td>2.5</td>\n",
       "      <td>3067</td>\n",
       "      <td>...</td>\n",
       "      <td>Northern Metropolitan</td>\n",
       "      <td>4019</td>\n",
       "      <td>33</td>\n",
       "      <td>2167</td>\n",
       "      <td>1354</td>\n",
       "      <td>424</td>\n",
       "      <td>3024</td>\n",
       "      <td>1.0</td>\n",
       "      <td>2196</td>\n",
       "      <td>1.9</td>\n",
       "    </tr>\n",
       "    <tr>\n",
       "      <th>4</th>\n",
       "      <td>Abbotsford</td>\n",
       "      <td>98 Charles St</td>\n",
       "      <td>2</td>\n",
       "      <td>h</td>\n",
       "      <td>1636000</td>\n",
       "      <td>S</td>\n",
       "      <td>Nelson</td>\n",
       "      <td>8/10/2016</td>\n",
       "      <td>2.5</td>\n",
       "      <td>3067</td>\n",
       "      <td>...</td>\n",
       "      <td>Northern Metropolitan</td>\n",
       "      <td>4019</td>\n",
       "      <td>33</td>\n",
       "      <td>2167</td>\n",
       "      <td>1354</td>\n",
       "      <td>424</td>\n",
       "      <td>3024</td>\n",
       "      <td>1.0</td>\n",
       "      <td>2196</td>\n",
       "      <td>1.9</td>\n",
       "    </tr>\n",
       "  </tbody>\n",
       "</table>\n",
       "<p>5 rows × 28 columns</p>\n",
       "</div>"
      ],
      "text/plain": [
       "       Suburb          Address  Rooms Type    Price Method Real Estate Agent  \\\n",
       "0  Abbotsford  25 Bloomburg St      2    h  1035000      S            Biggin   \n",
       "1  Abbotsford     5 Charles St      3    h  1465000     SP            Biggin   \n",
       "2  Abbotsford      55a Park St      4    h  1600000     VB            Nelson   \n",
       "3  Abbotsford     124 Yarra St      3    h  1876000      S            Nelson   \n",
       "4  Abbotsford    98 Charles St      2    h  1636000      S            Nelson   \n",
       "\n",
       "        Date  Distance  Postcode  ...             Regionname  Propertycount  \\\n",
       "0  4/02/2016       2.5      3067  ...  Northern Metropolitan           4019   \n",
       "1  4/03/2017       2.5      3067  ...  Northern Metropolitan           4019   \n",
       "2  4/06/2016       2.5      3067  ...  Northern Metropolitan           4019   \n",
       "3  7/05/2016       2.5      3067  ...  Northern Metropolitan           4019   \n",
       "4  8/10/2016       2.5      3067  ...  Northern Metropolitan           4019   \n",
       "\n",
       "   Median_age_persons  Median_mortgage_repay_monthly  \\\n",
       "0                  33                           2167   \n",
       "1                  33                           2167   \n",
       "2                  33                           2167   \n",
       "3                  33                           2167   \n",
       "4                  33                           2167   \n",
       "\n",
       "   Median_tot_prsnl_inc_weekly Median_rent_weekly  Median_tot_fam_inc_weekly  \\\n",
       "0                         1354                424                       3024   \n",
       "1                         1354                424                       3024   \n",
       "2                         1354                424                       3024   \n",
       "3                         1354                424                       3024   \n",
       "4                         1354                424                       3024   \n",
       "\n",
       "   Average_num_psns_per_bedroom Median_tot_hhd_inc_weekly  \\\n",
       "0                           1.0                      2196   \n",
       "1                           1.0                      2196   \n",
       "2                           1.0                      2196   \n",
       "3                           1.0                      2196   \n",
       "4                           1.0                      2196   \n",
       "\n",
       "   Average_household_size  \n",
       "0                     1.9  \n",
       "1                     1.9  \n",
       "2                     1.9  \n",
       "3                     1.9  \n",
       "4                     1.9  \n",
       "\n",
       "[5 rows x 28 columns]"
      ]
     },
     "execution_count": 40,
     "metadata": {},
     "output_type": "execute_result"
    }
   ],
   "source": [
    "# reading our dataset\n",
    "Main_data=pd.read_csv(\"merged_data.csv\")\n",
    "Main_data.head()\n",
    "\n",
    "del Main_data[\"Unnamed: 0\"]\n",
    "del Main_data[\"Number of Bedroom\"]\n",
    "Main_data.head()"
   ]
  },
  {
   "cell_type": "code",
   "execution_count": 41,
   "id": "f0d8d5d4",
   "metadata": {},
   "outputs": [
    {
     "data": {
      "text/plain": [
       "dtype('O')"
      ]
     },
     "execution_count": 41,
     "metadata": {},
     "output_type": "execute_result"
    }
   ],
   "source": [
    "#check the type of \"Date\" and change the format to YYYY-mm-dd and the extract YEAR and Month from the Date and save\n",
    "#into another column name \"Year\" and \"Month\"\n",
    "Main_data[\"Date\"].dtype"
   ]
  },
  {
   "cell_type": "code",
   "execution_count": 43,
   "id": "f46cb5ed",
   "metadata": {},
   "outputs": [],
   "source": [
    "Main_data['Date'] = pd.to_datetime(Main_data['Date'], format='%d/%m/%Y')"
   ]
  },
  {
   "cell_type": "code",
   "execution_count": 44,
   "id": "3dac1182",
   "metadata": {
    "scrolled": true
   },
   "outputs": [],
   "source": [
    "Main_data['Year'] = Main_data['Date'].dt.year\n",
    "Main_data['Month']=Main_data['Date'].dt.month"
   ]
  },
  {
   "cell_type": "code",
   "execution_count": 45,
   "id": "b5d8665a",
   "metadata": {},
   "outputs": [
    {
     "data": {
      "text/html": [
       "<div>\n",
       "<style scoped>\n",
       "    .dataframe tbody tr th:only-of-type {\n",
       "        vertical-align: middle;\n",
       "    }\n",
       "\n",
       "    .dataframe tbody tr th {\n",
       "        vertical-align: top;\n",
       "    }\n",
       "\n",
       "    .dataframe thead th {\n",
       "        text-align: right;\n",
       "    }\n",
       "</style>\n",
       "<table border=\"1\" class=\"dataframe\">\n",
       "  <thead>\n",
       "    <tr style=\"text-align: right;\">\n",
       "      <th></th>\n",
       "      <th>Suburb</th>\n",
       "      <th>Address</th>\n",
       "      <th>Rooms</th>\n",
       "      <th>Type</th>\n",
       "      <th>Price</th>\n",
       "      <th>Method</th>\n",
       "      <th>Real Estate Agent</th>\n",
       "      <th>Date</th>\n",
       "      <th>Distance</th>\n",
       "      <th>Postcode</th>\n",
       "      <th>...</th>\n",
       "      <th>Median_age_persons</th>\n",
       "      <th>Median_mortgage_repay_monthly</th>\n",
       "      <th>Median_tot_prsnl_inc_weekly</th>\n",
       "      <th>Median_rent_weekly</th>\n",
       "      <th>Median_tot_fam_inc_weekly</th>\n",
       "      <th>Average_num_psns_per_bedroom</th>\n",
       "      <th>Median_tot_hhd_inc_weekly</th>\n",
       "      <th>Average_household_size</th>\n",
       "      <th>Year</th>\n",
       "      <th>Month</th>\n",
       "    </tr>\n",
       "  </thead>\n",
       "  <tbody>\n",
       "    <tr>\n",
       "      <th>0</th>\n",
       "      <td>Abbotsford</td>\n",
       "      <td>25 Bloomburg St</td>\n",
       "      <td>2</td>\n",
       "      <td>h</td>\n",
       "      <td>1035000</td>\n",
       "      <td>S</td>\n",
       "      <td>Biggin</td>\n",
       "      <td>2016-02-04</td>\n",
       "      <td>2.5</td>\n",
       "      <td>3067</td>\n",
       "      <td>...</td>\n",
       "      <td>33</td>\n",
       "      <td>2167</td>\n",
       "      <td>1354</td>\n",
       "      <td>424</td>\n",
       "      <td>3024</td>\n",
       "      <td>1.0</td>\n",
       "      <td>2196</td>\n",
       "      <td>1.9</td>\n",
       "      <td>2016</td>\n",
       "      <td>2</td>\n",
       "    </tr>\n",
       "    <tr>\n",
       "      <th>1</th>\n",
       "      <td>Abbotsford</td>\n",
       "      <td>5 Charles St</td>\n",
       "      <td>3</td>\n",
       "      <td>h</td>\n",
       "      <td>1465000</td>\n",
       "      <td>SP</td>\n",
       "      <td>Biggin</td>\n",
       "      <td>2017-03-04</td>\n",
       "      <td>2.5</td>\n",
       "      <td>3067</td>\n",
       "      <td>...</td>\n",
       "      <td>33</td>\n",
       "      <td>2167</td>\n",
       "      <td>1354</td>\n",
       "      <td>424</td>\n",
       "      <td>3024</td>\n",
       "      <td>1.0</td>\n",
       "      <td>2196</td>\n",
       "      <td>1.9</td>\n",
       "      <td>2017</td>\n",
       "      <td>3</td>\n",
       "    </tr>\n",
       "    <tr>\n",
       "      <th>2</th>\n",
       "      <td>Abbotsford</td>\n",
       "      <td>55a Park St</td>\n",
       "      <td>4</td>\n",
       "      <td>h</td>\n",
       "      <td>1600000</td>\n",
       "      <td>VB</td>\n",
       "      <td>Nelson</td>\n",
       "      <td>2016-06-04</td>\n",
       "      <td>2.5</td>\n",
       "      <td>3067</td>\n",
       "      <td>...</td>\n",
       "      <td>33</td>\n",
       "      <td>2167</td>\n",
       "      <td>1354</td>\n",
       "      <td>424</td>\n",
       "      <td>3024</td>\n",
       "      <td>1.0</td>\n",
       "      <td>2196</td>\n",
       "      <td>1.9</td>\n",
       "      <td>2016</td>\n",
       "      <td>6</td>\n",
       "    </tr>\n",
       "    <tr>\n",
       "      <th>3</th>\n",
       "      <td>Abbotsford</td>\n",
       "      <td>124 Yarra St</td>\n",
       "      <td>3</td>\n",
       "      <td>h</td>\n",
       "      <td>1876000</td>\n",
       "      <td>S</td>\n",
       "      <td>Nelson</td>\n",
       "      <td>2016-05-07</td>\n",
       "      <td>2.5</td>\n",
       "      <td>3067</td>\n",
       "      <td>...</td>\n",
       "      <td>33</td>\n",
       "      <td>2167</td>\n",
       "      <td>1354</td>\n",
       "      <td>424</td>\n",
       "      <td>3024</td>\n",
       "      <td>1.0</td>\n",
       "      <td>2196</td>\n",
       "      <td>1.9</td>\n",
       "      <td>2016</td>\n",
       "      <td>5</td>\n",
       "    </tr>\n",
       "    <tr>\n",
       "      <th>4</th>\n",
       "      <td>Abbotsford</td>\n",
       "      <td>98 Charles St</td>\n",
       "      <td>2</td>\n",
       "      <td>h</td>\n",
       "      <td>1636000</td>\n",
       "      <td>S</td>\n",
       "      <td>Nelson</td>\n",
       "      <td>2016-10-08</td>\n",
       "      <td>2.5</td>\n",
       "      <td>3067</td>\n",
       "      <td>...</td>\n",
       "      <td>33</td>\n",
       "      <td>2167</td>\n",
       "      <td>1354</td>\n",
       "      <td>424</td>\n",
       "      <td>3024</td>\n",
       "      <td>1.0</td>\n",
       "      <td>2196</td>\n",
       "      <td>1.9</td>\n",
       "      <td>2016</td>\n",
       "      <td>10</td>\n",
       "    </tr>\n",
       "  </tbody>\n",
       "</table>\n",
       "<p>5 rows × 30 columns</p>\n",
       "</div>"
      ],
      "text/plain": [
       "       Suburb          Address  Rooms Type    Price Method Real Estate Agent  \\\n",
       "0  Abbotsford  25 Bloomburg St      2    h  1035000      S            Biggin   \n",
       "1  Abbotsford     5 Charles St      3    h  1465000     SP            Biggin   \n",
       "2  Abbotsford      55a Park St      4    h  1600000     VB            Nelson   \n",
       "3  Abbotsford     124 Yarra St      3    h  1876000      S            Nelson   \n",
       "4  Abbotsford    98 Charles St      2    h  1636000      S            Nelson   \n",
       "\n",
       "        Date  Distance  Postcode  ...  Median_age_persons  \\\n",
       "0 2016-02-04       2.5      3067  ...                  33   \n",
       "1 2017-03-04       2.5      3067  ...                  33   \n",
       "2 2016-06-04       2.5      3067  ...                  33   \n",
       "3 2016-05-07       2.5      3067  ...                  33   \n",
       "4 2016-10-08       2.5      3067  ...                  33   \n",
       "\n",
       "   Median_mortgage_repay_monthly  Median_tot_prsnl_inc_weekly  \\\n",
       "0                           2167                         1354   \n",
       "1                           2167                         1354   \n",
       "2                           2167                         1354   \n",
       "3                           2167                         1354   \n",
       "4                           2167                         1354   \n",
       "\n",
       "   Median_rent_weekly  Median_tot_fam_inc_weekly Average_num_psns_per_bedroom  \\\n",
       "0                 424                       3024                          1.0   \n",
       "1                 424                       3024                          1.0   \n",
       "2                 424                       3024                          1.0   \n",
       "3                 424                       3024                          1.0   \n",
       "4                 424                       3024                          1.0   \n",
       "\n",
       "   Median_tot_hhd_inc_weekly  Average_household_size  Year  Month  \n",
       "0                       2196                     1.9  2016      2  \n",
       "1                       2196                     1.9  2017      3  \n",
       "2                       2196                     1.9  2016      6  \n",
       "3                       2196                     1.9  2016      5  \n",
       "4                       2196                     1.9  2016     10  \n",
       "\n",
       "[5 rows x 30 columns]"
      ]
     },
     "execution_count": 45,
     "metadata": {},
     "output_type": "execute_result"
    }
   ],
   "source": [
    "#Check to make sure we see new column \"Year\" \n",
    "Main_data.head()"
   ]
  },
  {
   "cell_type": "code",
   "execution_count": 236,
   "id": "2cfe0050",
   "metadata": {},
   "outputs": [
    {
     "name": "stderr",
     "output_type": "stream",
     "text": [
      "/Users/asalvalisoltani/opt/anaconda3/envs/PythonData/lib/python3.7/site-packages/ipykernel_launcher.py:1: FutureWarning:\n",
      "\n",
      "Indexing with multiple keys (implicitly converted to a tuple of keys) will be deprecated, use a list instead.\n",
      "\n"
     ]
    },
    {
     "data": {
      "application/vnd.plotly.v1+json": {
       "config": {
        "plotlyServerURL": "https://plot.ly"
       },
       "data": [
        {
         "customdata": [
          [
           "Northern Metropolitan",
           "Abbotsford",
           1176500
          ],
          [
           "Western Metropolitan",
           "Aberfeldie",
           1350000
          ],
          [
           "Western Metropolitan",
           "Airport West",
           771500
          ],
          [
           "Western Metropolitan",
           "Albanvale",
           555000
          ],
          [
           "Southern Metropolitan",
           "Albert Park",
           1825000
          ],
          [
           "Western Metropolitan",
           "Albion",
           600000
          ],
          [
           "Northern Metropolitan",
           "Alphington",
           1646250
          ],
          [
           "Western Metropolitan",
           "Altona",
           747500
          ],
          [
           "Western Metropolitan",
           "Altona Meadows",
           675250
          ],
          [
           "Western Metropolitan",
           "Altona North",
           791000
          ],
          [
           "Western Metropolitan",
           "Ardeer",
           638500
          ],
          [
           "Southern Metropolitan",
           "Armadale",
           1435000
          ],
          [
           "Western Metropolitan",
           "Ascot Vale",
           1050000
          ],
          [
           "Southern Metropolitan",
           "Ashburton",
           1667500
          ],
          [
           "Southern Metropolitan",
           "Ashwood",
           1200000
          ],
          [
           "South-Eastern Metropolitan",
           "Aspendale",
           970000
          ],
          [
           "South-Eastern Metropolitan",
           "Aspendale Gardens",
           839375
          ],
          [
           "Northern Metropolitan",
           "Attwood",
           830000
          ],
          [
           "Western Metropolitan",
           "Avondale Heights",
           790000
          ],
          [
           "Western Victoria",
           "Bacchus Marsh",
           412000
          ],
          [
           "Southern Metropolitan",
           "Balaclava",
           570000
          ],
          [
           "Southern Metropolitan",
           "Balwyn",
           2100000
          ],
          [
           "Southern Metropolitan",
           "Balwyn North",
           1837500
          ],
          [
           "Eastern Metropolitan",
           "Bayswater",
           822000
          ],
          [
           "Eastern Metropolitan",
           "Bayswater North",
           743000
          ],
          [
           "Eastern Victoria",
           "Beaconsfield",
           670000
          ],
          [
           "Eastern Victoria",
           "Beaconsfield Upper",
           675000
          ],
          [
           "Southern Metropolitan",
           "Beaumaris",
           1850000
          ],
          [
           "Eastern Metropolitan",
           "Bellfield",
           795000
          ],
          [
           "Southern Metropolitan",
           "Bentleigh",
           1320000
          ],
          [
           "Southern Metropolitan",
           "Bentleigh East",
           1127500
          ],
          [
           "Eastern Victoria",
           "Berwick",
           735000
          ],
          [
           "Southern Metropolitan",
           "Black Rock",
           1080000
          ],
          [
           "Eastern Metropolitan",
           "Blackburn",
           1350000
          ],
          [
           "Eastern Metropolitan",
           "Blackburn North",
           1140000
          ],
          [
           "Eastern Metropolitan",
           "Blackburn South",
           1229000
          ],
          [
           "South-Eastern Metropolitan",
           "Bonbeach",
           1040500
          ],
          [
           "Eastern Metropolitan",
           "Boronia",
           770000
          ],
          [
           "South-Eastern Metropolitan",
           "Botanic Ridge",
           750000
          ],
          [
           "Eastern Metropolitan",
           "Box Hill",
           1480700
          ],
          [
           "Western Metropolitan",
           "Braybrook",
           645000
          ],
          [
           "Eastern Metropolitan",
           "Briar Hill",
           825000
          ],
          [
           "Southern Metropolitan",
           "Brighton",
           1995000
          ],
          [
           "Southern Metropolitan",
           "Brighton East",
           1652500
          ],
          [
           "Northern Metropolitan",
           "Broadmeadows",
           570500
          ],
          [
           "Western Victoria",
           "Brookfield",
           497000
          ],
          [
           "Western Metropolitan",
           "Brooklyn",
           515000
          ],
          [
           "Northern Metropolitan",
           "Brunswick",
           1036250
          ],
          [
           "Northern Metropolitan",
           "Brunswick East",
           1012500
          ],
          [
           "Northern Metropolitan",
           "Brunswick West",
           822500
          ],
          [
           "Eastern Metropolitan",
           "Bulleen",
           1100000
          ],
          [
           "Northern Victoria",
           "Bullengarook",
           865000
          ],
          [
           "Northern Metropolitan",
           "Bundoora",
           770000
          ],
          [
           "Northern Metropolitan",
           "Burnley",
           1333005
          ],
          [
           "Western Metropolitan",
           "Burnside",
           642500
          ],
          [
           "Western Metropolitan",
           "Burnside Heights",
           584000
          ],
          [
           "Southern Metropolitan",
           "Burwood",
           1310000
          ],
          [
           "Eastern Metropolitan",
           "Burwood East",
           1091000
          ],
          [
           "Western Metropolitan",
           "Cairnlea",
           687000
          ],
          [
           "Southern Metropolitan",
           "Camberwell",
           1987000
          ],
          [
           "Northern Metropolitan",
           "Campbellfield",
           658000
          ],
          [
           "Southern Metropolitan",
           "Canterbury",
           2375000
          ],
          [
           "Northern Metropolitan",
           "Carlton",
           910000
          ],
          [
           "Northern Metropolitan",
           "Carlton North",
           1650000
          ],
          [
           "Southern Metropolitan",
           "Carnegie",
           850000
          ],
          [
           "Western Metropolitan",
           "Caroline Springs",
           623000
          ],
          [
           "South-Eastern Metropolitan",
           "Carrum",
           668750
          ],
          [
           "South-Eastern Metropolitan",
           "Carrum Downs",
           546000
          ],
          [
           "Southern Metropolitan",
           "Caulfield",
           600000
          ],
          [
           "Southern Metropolitan",
           "Caulfield East",
           1472000
          ],
          [
           "Southern Metropolitan",
           "Caulfield North",
           595000
          ],
          [
           "Southern Metropolitan",
           "Caulfield South",
           1350000
          ],
          [
           "Southern Metropolitan",
           "Chadstone",
           930000
          ],
          [
           "South-Eastern Metropolitan",
           "Chelsea",
           840000
          ],
          [
           "South-Eastern Metropolitan",
           "Chelsea Heights",
           728500
          ],
          [
           "Southern Metropolitan",
           "Cheltenham",
           1020000
          ],
          [
           "Eastern Victoria",
           "Chirnside Park",
           838491
          ],
          [
           "South-Eastern Metropolitan",
           "Clarinda",
           936650
          ],
          [
           "South-Eastern Metropolitan",
           "Clayton",
           1022000
          ],
          [
           "South-Eastern Metropolitan",
           "Clayton South",
           950000
          ],
          [
           "Northern Metropolitan",
           "Clifton Hill",
           1209000
          ],
          [
           "Northern Metropolitan",
           "Coburg",
           903000
          ],
          [
           "Northern Metropolitan",
           "Coburg North",
           800500
          ],
          [
           "Northern Metropolitan",
           "Collingwood",
           905000
          ],
          [
           "Northern Metropolitan",
           "Coolaroo",
           477500
          ],
          [
           "Northern Metropolitan",
           "Craigieburn",
           561250
          ],
          [
           "South-Eastern Metropolitan",
           "Cranbourne",
           815254
          ],
          [
           "South-Eastern Metropolitan",
           "Cranbourne North",
           500000
          ],
          [
           "Northern Metropolitan",
           "Cremorne",
           1130000
          ],
          [
           "Eastern Metropolitan",
           "Croydon",
           859000
          ],
          [
           "Eastern Metropolitan",
           "Croydon Hills",
           905000
          ],
          [
           "Eastern Metropolitan",
           "Croydon North",
           827500
          ],
          [
           "Eastern Metropolitan",
           "Croydon South",
           952000
          ],
          [
           "Northern Metropolitan",
           "Dallas",
           506000
          ],
          [
           "South-Eastern Metropolitan",
           "Dandenong",
           657000
          ],
          [
           "South-Eastern Metropolitan",
           "Dandenong North",
           666900
          ],
          [
           "Southern Metropolitan",
           "Deepdene",
           2380000
          ],
          [
           "Western Metropolitan",
           "Deer Park",
           589000
          ],
          [
           "Western Metropolitan",
           "Delahey",
           600000
          ],
          [
           "Western Metropolitan",
           "Derrimut",
           695000
          ],
          [
           "Northern Victoria",
           "Diamond Creek",
           782500
          ],
          [
           "Western Metropolitan",
           "Diggers Rest",
           550000
          ],
          [
           "South-Eastern Metropolitan",
           "Dingley Village",
           900000
          ],
          [
           "Eastern Metropolitan",
           "Doncaster",
           1350000
          ],
          [
           "Eastern Metropolitan",
           "Doncaster East",
           1330000
          ],
          [
           "Eastern Metropolitan",
           "Donvale",
           1070000
          ],
          [
           "Northern Victoria",
           "Doreen",
           553500
          ],
          [
           "South-Eastern Metropolitan",
           "Doveton",
           508750
          ],
          [
           "Eastern Metropolitan",
           "Eaglemont",
           1700000
          ],
          [
           "Northern Metropolitan",
           "East Melbourne",
           1300000
          ],
          [
           "South-Eastern Metropolitan",
           "Edithvale",
           875000
          ],
          [
           "Southern Metropolitan",
           "Elsternwick",
           1320000
          ],
          [
           "Eastern Metropolitan",
           "Eltham",
           957500
          ],
          [
           "Eastern Metropolitan",
           "Eltham North",
           912500
          ],
          [
           "Southern Metropolitan",
           "Elwood",
           715000
          ],
          [
           "Eastern Victoria",
           "Emerald",
           558500
          ],
          [
           "South-Eastern Metropolitan",
           "Endeavour Hills",
           676000
          ],
          [
           "Northern Metropolitan",
           "Epping",
           616000
          ],
          [
           "Western Metropolitan",
           "Essendon",
           1150000
          ],
          [
           "Western Metropolitan",
           "Essendon North",
           757500
          ],
          [
           "Western Metropolitan",
           "Essendon West",
           1207500
          ],
          [
           "Northern Metropolitan",
           "Fairfield",
           1252500
          ],
          [
           "Northern Metropolitan",
           "Fawkner",
           643500
          ],
          [
           "Eastern Metropolitan",
           "Ferntree Gully",
           845000
          ],
          [
           "Northern Metropolitan",
           "Fitzroy",
           1100000
          ],
          [
           "Northern Metropolitan",
           "Fitzroy North",
           1325000
          ],
          [
           "Northern Metropolitan",
           "Flemington",
           946500
          ],
          [
           "Western Metropolitan",
           "Footscray",
           760000
          ],
          [
           "Eastern Metropolitan",
           "Forest Hill",
           1088000
          ],
          [
           "South-Eastern Metropolitan",
           "Frankston",
           648944
          ],
          [
           "Eastern Victoria",
           "Frankston North",
           500000
          ],
          [
           "South-Eastern Metropolitan",
           "Frankston South",
           887500
          ],
          [
           "Southern Metropolitan",
           "Gardenvale",
           1066500
          ],
          [
           "Northern Victoria",
           "Gisborne",
           657500
          ],
          [
           "Northern Victoria",
           "Gisborne South",
           1350000
          ],
          [
           "Western Metropolitan",
           "Gladstone Park",
           667500
          ],
          [
           "Southern Metropolitan",
           "Glen Huntly",
           710000
          ],
          [
           "Southern Metropolitan",
           "Glen Iris",
           1760000
          ],
          [
           "Eastern Metropolitan",
           "Glen Waverley",
           1296000
          ],
          [
           "Northern Metropolitan",
           "Glenroy",
           680000
          ],
          [
           "Western Metropolitan",
           "Gowanbrae",
           704500
          ],
          [
           "Northern Metropolitan",
           "Greensborough",
           841000
          ],
          [
           "Northern Metropolitan",
           "Greenvale",
           730000
          ],
          [
           "Northern Metropolitan",
           "Hadfield",
           692750
          ],
          [
           "South-Eastern Metropolitan",
           "Hallam",
           623000
          ],
          [
           "Southern Metropolitan",
           "Hampton",
           1722500
          ],
          [
           "Southern Metropolitan",
           "Hampton East",
           1150000
          ],
          [
           "South-Eastern Metropolitan",
           "Hampton Park",
           512500
          ],
          [
           "Southern Metropolitan",
           "Hawthorn",
           1165000
          ],
          [
           "Southern Metropolitan",
           "Hawthorn East",
           1457500
          ],
          [
           "Northern Victoria",
           "Healesville",
           650000
          ],
          [
           "Eastern Metropolitan",
           "Heathmont",
           922000
          ],
          [
           "Eastern Metropolitan",
           "Heidelberg",
           831500
          ],
          [
           "Eastern Metropolitan",
           "Heidelberg Heights",
           692500
          ],
          [
           "Eastern Metropolitan",
           "Heidelberg West",
           640000
          ],
          [
           "Southern Metropolitan",
           "Highett",
           1280000
          ],
          [
           "Western Metropolitan",
           "Hillside",
           666000
          ],
          [
           "Western Metropolitan",
           "Hoppers Crossing",
           538250
          ],
          [
           "Southern Metropolitan",
           "Hughesdale",
           1206750
          ],
          [
           "Southern Metropolitan",
           "Huntingdale",
           1145000
          ],
          [
           "Northern Victoria",
           "Hurstbridge",
           790000
          ],
          [
           "Eastern Metropolitan",
           "Ivanhoe",
           1310000
          ],
          [
           "Eastern Metropolitan",
           "Ivanhoe East",
           1797000
          ],
          [
           "Northern Metropolitan",
           "Jacana",
           570000
          ],
          [
           "Western Metropolitan",
           "Kealba",
           600000
          ],
          [
           "Western Metropolitan",
           "Keilor",
           867500
          ],
          [
           "Western Metropolitan",
           "Keilor Downs",
           700000
          ],
          [
           "Western Metropolitan",
           "Keilor East",
           835000
          ],
          [
           "Western Metropolitan",
           "Keilor Lodge",
           653000
          ],
          [
           "Western Metropolitan",
           "Keilor Park",
           685000
          ],
          [
           "Northern Metropolitan",
           "Kensington",
           825000
          ],
          [
           "Southern Metropolitan",
           "Kew",
           1800000
          ],
          [
           "Southern Metropolitan",
           "Kew East",
           1935000
          ],
          [
           "South-Eastern Metropolitan",
           "Keysborough",
           771000
          ],
          [
           "Eastern Metropolitan",
           "Kilsyth",
           780000
          ],
          [
           "Western Metropolitan",
           "Kings Park",
           545000
          ],
          [
           "Northern Metropolitan",
           "Kingsbury",
           608750
          ],
          [
           "Western Metropolitan",
           "Kingsville",
           962500
          ],
          [
           "Eastern Metropolitan",
           "Knoxfield",
           935000
          ],
          [
           "Southern Metropolitan",
           "Kooyong",
           3080000
          ],
          [
           "Northern Victoria",
           "Kurunjang",
           375000
          ],
          [
           "Northern Metropolitan",
           "Lalor",
           623500
          ],
          [
           "Eastern Victoria",
           "Langwarrin",
           600000
          ],
          [
           "Eastern Metropolitan",
           "Lower Plenty",
           753750
          ],
          [
           "South-Eastern Metropolitan",
           "Lysterfield",
           730000
          ],
          [
           "Western Metropolitan",
           "Maidstone",
           681000
          ],
          [
           "Southern Metropolitan",
           "Malvern",
           2050000
          ],
          [
           "Southern Metropolitan",
           "Malvern East",
           1567500
          ],
          [
           "Western Metropolitan",
           "Maribyrnong",
           874750
          ],
          [
           "Southern Metropolitan",
           "McKinnon",
           1312000
          ],
          [
           "Northern Metropolitan",
           "Meadow Heights",
           511000
          ],
          [
           "Northern Metropolitan",
           "Melbourne",
           535000
          ],
          [
           "Western Victoria",
           "Melton",
           410000
          ],
          [
           "Western Victoria",
           "Melton South",
           416500
          ],
          [
           "Northern Victoria",
           "Melton West",
           438000
          ],
          [
           "South-Eastern Metropolitan",
           "Mentone",
           960500
          ],
          [
           "Northern Metropolitan",
           "Mernda",
           610000
          ],
          [
           "Northern Metropolitan",
           "Mickleham",
           982500
          ],
          [
           "Southern Metropolitan",
           "Middle Park",
           2170000
          ],
          [
           "Northern Metropolitan",
           "Mill Park",
           702000
          ],
          [
           "Eastern Metropolitan",
           "Mitcham",
           997500
          ],
          [
           "Eastern Metropolitan",
           "Mont Albert",
           1815000
          ],
          [
           "Eastern Metropolitan",
           "Montmorency",
           850000
          ],
          [
           "Eastern Victoria",
           "Montrose",
           735000
          ],
          [
           "Western Metropolitan",
           "Moonee Ponds",
           1210000
          ],
          [
           "Southern Metropolitan",
           "Moorabbin",
           1000000
          ],
          [
           "Eastern Victoria",
           "Mooroolbark",
           696000
          ],
          [
           "South-Eastern Metropolitan",
           "Mordialloc",
           1300000
          ],
          [
           "Eastern Victoria",
           "Mount Evelyn",
           620000
          ],
          [
           "Eastern Metropolitan",
           "Mount Waverley",
           1408000
          ],
          [
           "South-Eastern Metropolitan",
           "Mulgrave",
           880000
          ],
          [
           "Southern Metropolitan",
           "Murrumbeena",
           1090000
          ],
          [
           "South-Eastern Metropolitan",
           "Narre Warren",
           628500
          ],
          [
           "Western Metropolitan",
           "Newport",
           962000
          ],
          [
           "Western Metropolitan",
           "Niddrie",
           1065000
          ],
          [
           "South-Eastern Metropolitan",
           "Noble Park",
           685500
          ],
          [
           "Northern Metropolitan",
           "North Melbourne",
           720000
          ],
          [
           "Eastern Metropolitan",
           "North Warrandyte",
           902000
          ],
          [
           "Northern Metropolitan",
           "Northcote",
           1270500
          ],
          [
           "Southern Metropolitan",
           "Notting Hill",
           1100000
          ],
          [
           "Eastern Metropolitan",
           "Nunawading",
           1002000
          ],
          [
           "Northern Metropolitan",
           "Oak Park",
           770000
          ],
          [
           "Southern Metropolitan",
           "Oakleigh",
           1170000
          ],
          [
           "Southern Metropolitan",
           "Oakleigh East",
           954500
          ],
          [
           "South-Eastern Metropolitan",
           "Oakleigh South",
           993000
          ],
          [
           "Eastern Victoria",
           "Officer",
           563000
          ],
          [
           "Southern Metropolitan",
           "Ormond",
           1103000
          ],
          [
           "Eastern Victoria",
           "Pakenham",
           493000
          ],
          [
           "South-Eastern Metropolitan",
           "Parkdale",
           1285000
          ],
          [
           "Northern Metropolitan",
           "Parkville",
           1805000
          ],
          [
           "Northern Metropolitan",
           "Pascoe Vale",
           750000
          ],
          [
           "South-Eastern Metropolitan",
           "Patterson Lakes",
           975000
          ],
          [
           "Western Metropolitan",
           "Plumpton",
           625500
          ],
          [
           "Western Metropolitan",
           "Point Cook",
           666500
          ],
          [
           "Southern Metropolitan",
           "Port Melbourne",
           1200000
          ],
          [
           "Southern Metropolitan",
           "Prahran",
           1077500
          ],
          [
           "Northern Metropolitan",
           "Preston",
           905000
          ],
          [
           "Northern Metropolitan",
           "Princes Hill",
           1900000
          ],
          [
           "Eastern Metropolitan",
           "Research",
           930000
          ],
          [
           "Northern Metropolitan",
           "Reservoir",
           650000
          ],
          [
           "Northern Metropolitan",
           "Richmond",
           1074000
          ],
          [
           "Northern Victoria",
           "Riddells Creek",
           817000
          ],
          [
           "Eastern Metropolitan",
           "Ringwood",
           932500
          ],
          [
           "Eastern Metropolitan",
           "Ringwood East",
           906000
          ],
          [
           "Eastern Metropolitan",
           "Ringwood North",
           848500
          ],
          [
           "Southern Metropolitan",
           "Ripponlea",
           656750
          ],
          [
           "Eastern Metropolitan",
           "Rosanna",
           930000
          ],
          [
           "South-Eastern Metropolitan",
           "Rowville",
           885000
          ],
          [
           "Northern Metropolitan",
           "Roxburgh Park",
           570000
          ],
          [
           "South-Eastern Metropolitan",
           "Sandhurst",
           642500
          ],
          [
           "Southern Metropolitan",
           "Sandringham",
           1715000
          ],
          [
           "Eastern Metropolitan",
           "Scoresby",
           1001000
          ],
          [
           "Western Metropolitan",
           "Seabrook",
           570000
          ],
          [
           "South-Eastern Metropolitan",
           "Seaford",
           790000
          ],
          [
           "Western Metropolitan",
           "Seaholme",
           1387500
          ],
          [
           "Western Metropolitan",
           "Seddon",
           970000
          ],
          [
           "South-Eastern Metropolitan",
           "Skye",
           537849
          ],
          [
           "Western Metropolitan",
           "South Kingsville",
           690000
          ],
          [
           "Southern Metropolitan",
           "South Melbourne",
           1372500
          ],
          [
           "Northern Metropolitan",
           "South Morang",
           650000
          ],
          [
           "Southern Metropolitan",
           "South Yarra",
           833000
          ],
          [
           "Southern Metropolitan",
           "Southbank",
           600000
          ],
          [
           "Western Metropolitan",
           "Spotswood",
           883250
          ],
          [
           "South-Eastern Metropolitan",
           "Springvale",
           880000
          ],
          [
           "South-Eastern Metropolitan",
           "Springvale South",
           700000
          ],
          [
           "Western Metropolitan",
           "St Albans",
           610000
          ],
          [
           "Eastern Metropolitan",
           "St Helena",
           897000
          ],
          [
           "Southern Metropolitan",
           "St Kilda",
           577500
          ],
          [
           "Western Metropolitan",
           "Strathmore",
           1310000
          ],
          [
           "Western Metropolitan",
           "Strathmore Heights",
           965999.5
          ],
          [
           "Western Metropolitan",
           "Sunbury",
           516500
          ],
          [
           "Western Metropolitan",
           "Sunshine",
           737500
          ],
          [
           "Western Metropolitan",
           "Sunshine North",
           657500
          ],
          [
           "Western Metropolitan",
           "Sunshine West",
           588000
          ],
          [
           "Southern Metropolitan",
           "Surrey Hills",
           1850000
          ],
          [
           "Western Metropolitan",
           "Sydenham",
           634000
          ],
          [
           "Western Metropolitan",
           "Tarneit",
           516000
          ],
          [
           "Western Metropolitan",
           "Taylors Hill",
           677500
          ],
          [
           "Western Metropolitan",
           "Taylors Lakes",
           751000
          ],
          [
           "Eastern Metropolitan",
           "Templestowe",
           1501333
          ],
          [
           "Eastern Metropolitan",
           "Templestowe Lower",
           1211000
          ],
          [
           "Eastern Metropolitan",
           "The Basin",
           477000
          ],
          [
           "Northern Metropolitan",
           "Thomastown",
           654000
          ],
          [
           "Northern Metropolitan",
           "Thornbury",
           1092500
          ],
          [
           "Southern Metropolitan",
           "Toorak",
           1350000
          ],
          [
           "Western Metropolitan",
           "Travancore",
           972000
          ],
          [
           "Western Metropolitan",
           "Truganina",
           588500
          ],
          [
           "Western Metropolitan",
           "Tullamarine",
           695000
          ],
          [
           "Eastern Victoria",
           "Upwey",
           1075000
          ],
          [
           "Eastern Metropolitan",
           "Vermont",
           1122250
          ],
          [
           "Eastern Metropolitan",
           "Vermont South",
           1202000
          ],
          [
           "Eastern Metropolitan",
           "Viewbank",
           930000
          ],
          [
           "Northern Victoria",
           "Wallan",
           420500
          ],
          [
           "Eastern Metropolitan",
           "Wantirna",
           975000
          ],
          [
           "Eastern Metropolitan",
           "Wantirna South",
           1180000
          ],
          [
           "Eastern Metropolitan",
           "Warrandyte",
           1196500
          ],
          [
           "South-Eastern Metropolitan",
           "Waterways",
           1232000
          ],
          [
           "Northern Metropolitan",
           "Watsonia",
           702000
          ],
          [
           "Northern Metropolitan",
           "Watsonia North",
           710000
          ],
          [
           "Northern Victoria",
           "Wattle Glen",
           835000
          ],
          [
           "Western Metropolitan",
           "Werribee",
           507500
          ],
          [
           "Western Metropolitan",
           "West Footscray",
           850000
          ],
          [
           "Northern Metropolitan",
           "West Melbourne",
           800000
          ],
          [
           "Northern Metropolitan",
           "Westmeadows",
           635000
          ],
          [
           "South-Eastern Metropolitan",
           "Wheelers Hill",
           1170500
          ],
          [
           "Northern Victoria",
           "Whittlesea",
           601000
          ],
          [
           "Western Metropolitan",
           "Williams Landing",
           700000
          ],
          [
           "Western Metropolitan",
           "Williamstown",
           1320000
          ],
          [
           "Western Metropolitan",
           "Williamstown North",
           953500
          ],
          [
           "Southern Metropolitan",
           "Windsor",
           815000
          ],
          [
           "Northern Metropolitan",
           "Wollert",
           615000
          ],
          [
           "Western Metropolitan",
           "Wyndham Vale",
           488000
          ],
          [
           "Northern Metropolitan",
           "Yallambie",
           817500
          ],
          [
           "Northern Victoria",
           "Yarra Glen",
           620000
          ],
          [
           "Western Metropolitan",
           "Yarraville",
           982500
          ]
         ],
         "hovertemplate": "<b>%{hovertext}</b><br><br>Price=%{marker.color}<br>Lattitude=%{lat}<br>Longtitude=%{lon}<br>Regionname=%{customdata[0]}<br>Suburb=%{customdata[1]}<extra></extra>",
         "hovertext": [
          "Abbotsford",
          "Aberfeldie",
          "Airport West",
          "Albanvale",
          "Albert Park",
          "Albion",
          "Alphington",
          "Altona",
          "Altona Meadows",
          "Altona North",
          "Ardeer",
          "Armadale",
          "Ascot Vale",
          "Ashburton",
          "Ashwood",
          "Aspendale",
          "Aspendale Gardens",
          "Attwood",
          "Avondale Heights",
          "Bacchus Marsh",
          "Balaclava",
          "Balwyn",
          "Balwyn North",
          "Bayswater",
          "Bayswater North",
          "Beaconsfield",
          "Beaconsfield Upper",
          "Beaumaris",
          "Bellfield",
          "Bentleigh",
          "Bentleigh East",
          "Berwick",
          "Black Rock",
          "Blackburn",
          "Blackburn North",
          "Blackburn South",
          "Bonbeach",
          "Boronia",
          "Botanic Ridge",
          "Box Hill",
          "Braybrook",
          "Briar Hill",
          "Brighton",
          "Brighton East",
          "Broadmeadows",
          "Brookfield",
          "Brooklyn",
          "Brunswick",
          "Brunswick East",
          "Brunswick West",
          "Bulleen",
          "Bullengarook",
          "Bundoora",
          "Burnley",
          "Burnside",
          "Burnside Heights",
          "Burwood",
          "Burwood East",
          "Cairnlea",
          "Camberwell",
          "Campbellfield",
          "Canterbury",
          "Carlton",
          "Carlton North",
          "Carnegie",
          "Caroline Springs",
          "Carrum",
          "Carrum Downs",
          "Caulfield",
          "Caulfield East",
          "Caulfield North",
          "Caulfield South",
          "Chadstone",
          "Chelsea",
          "Chelsea Heights",
          "Cheltenham",
          "Chirnside Park",
          "Clarinda",
          "Clayton",
          "Clayton South",
          "Clifton Hill",
          "Coburg",
          "Coburg North",
          "Collingwood",
          "Coolaroo",
          "Craigieburn",
          "Cranbourne",
          "Cranbourne North",
          "Cremorne",
          "Croydon",
          "Croydon Hills",
          "Croydon North",
          "Croydon South",
          "Dallas",
          "Dandenong",
          "Dandenong North",
          "Deepdene",
          "Deer Park",
          "Delahey",
          "Derrimut",
          "Diamond Creek",
          "Diggers Rest",
          "Dingley Village",
          "Doncaster",
          "Doncaster East",
          "Donvale",
          "Doreen",
          "Doveton",
          "Eaglemont",
          "East Melbourne",
          "Edithvale",
          "Elsternwick",
          "Eltham",
          "Eltham North",
          "Elwood",
          "Emerald",
          "Endeavour Hills",
          "Epping",
          "Essendon",
          "Essendon North",
          "Essendon West",
          "Fairfield",
          "Fawkner",
          "Ferntree Gully",
          "Fitzroy",
          "Fitzroy North",
          "Flemington",
          "Footscray",
          "Forest Hill",
          "Frankston",
          "Frankston North",
          "Frankston South",
          "Gardenvale",
          "Gisborne",
          "Gisborne South",
          "Gladstone Park",
          "Glen Huntly",
          "Glen Iris",
          "Glen Waverley",
          "Glenroy",
          "Gowanbrae",
          "Greensborough",
          "Greenvale",
          "Hadfield",
          "Hallam",
          "Hampton",
          "Hampton East",
          "Hampton Park",
          "Hawthorn",
          "Hawthorn East",
          "Healesville",
          "Heathmont",
          "Heidelberg",
          "Heidelberg Heights",
          "Heidelberg West",
          "Highett",
          "Hillside",
          "Hoppers Crossing",
          "Hughesdale",
          "Huntingdale",
          "Hurstbridge",
          "Ivanhoe",
          "Ivanhoe East",
          "Jacana",
          "Kealba",
          "Keilor",
          "Keilor Downs",
          "Keilor East",
          "Keilor Lodge",
          "Keilor Park",
          "Kensington",
          "Kew",
          "Kew East",
          "Keysborough",
          "Kilsyth",
          "Kings Park",
          "Kingsbury",
          "Kingsville",
          "Knoxfield",
          "Kooyong",
          "Kurunjang",
          "Lalor",
          "Langwarrin",
          "Lower Plenty",
          "Lysterfield",
          "Maidstone",
          "Malvern",
          "Malvern East",
          "Maribyrnong",
          "McKinnon",
          "Meadow Heights",
          "Melbourne",
          "Melton",
          "Melton South",
          "Melton West",
          "Mentone",
          "Mernda",
          "Mickleham",
          "Middle Park",
          "Mill Park",
          "Mitcham",
          "Mont Albert",
          "Montmorency",
          "Montrose",
          "Moonee Ponds",
          "Moorabbin",
          "Mooroolbark",
          "Mordialloc",
          "Mount Evelyn",
          "Mount Waverley",
          "Mulgrave",
          "Murrumbeena",
          "Narre Warren",
          "Newport",
          "Niddrie",
          "Noble Park",
          "North Melbourne",
          "North Warrandyte",
          "Northcote",
          "Notting Hill",
          "Nunawading",
          "Oak Park",
          "Oakleigh",
          "Oakleigh East",
          "Oakleigh South",
          "Officer",
          "Ormond",
          "Pakenham",
          "Parkdale",
          "Parkville",
          "Pascoe Vale",
          "Patterson Lakes",
          "Plumpton",
          "Point Cook",
          "Port Melbourne",
          "Prahran",
          "Preston",
          "Princes Hill",
          "Research",
          "Reservoir",
          "Richmond",
          "Riddells Creek",
          "Ringwood",
          "Ringwood East",
          "Ringwood North",
          "Ripponlea",
          "Rosanna",
          "Rowville",
          "Roxburgh Park",
          "Sandhurst",
          "Sandringham",
          "Scoresby",
          "Seabrook",
          "Seaford",
          "Seaholme",
          "Seddon",
          "Skye",
          "South Kingsville",
          "South Melbourne",
          "South Morang",
          "South Yarra",
          "Southbank",
          "Spotswood",
          "Springvale",
          "Springvale South",
          "St Albans",
          "St Helena",
          "St Kilda",
          "Strathmore",
          "Strathmore Heights",
          "Sunbury",
          "Sunshine",
          "Sunshine North",
          "Sunshine West",
          "Surrey Hills",
          "Sydenham",
          "Tarneit",
          "Taylors Hill",
          "Taylors Lakes",
          "Templestowe",
          "Templestowe Lower",
          "The Basin",
          "Thomastown",
          "Thornbury",
          "Toorak",
          "Travancore",
          "Truganina",
          "Tullamarine",
          "Upwey",
          "Vermont",
          "Vermont South",
          "Viewbank",
          "Wallan",
          "Wantirna",
          "Wantirna South",
          "Warrandyte",
          "Waterways",
          "Watsonia",
          "Watsonia North",
          "Wattle Glen",
          "Werribee",
          "West Footscray",
          "West Melbourne",
          "Westmeadows",
          "Wheelers Hill",
          "Whittlesea",
          "Williams Landing",
          "Williamstown",
          "Williamstown North",
          "Windsor",
          "Wollert",
          "Wyndham Vale",
          "Yallambie",
          "Yarra Glen",
          "Yarraville"
         ],
         "lat": [
          -37.80359,
          -37.7595,
          -37.723535,
          -37.744,
          -37.844695,
          -37.7798,
          -37.7763,
          -37.868235,
          -37.878575,
          -37.83511,
          -37.777969999999996,
          -37.8564,
          -37.7762,
          -37.869550000000004,
          -37.864805,
          -38.02357,
          -38.021834999999996,
          -37.671035,
          -37.76063,
          -37.66869000000001,
          -37.872150000000005,
          -37.8094,
          -37.793585,
          -37.84823,
          -37.825845,
          -38.05614,
          -38.00224,
          -37.98124,
          -37.7524,
          -37.9259,
          -37.919650000000004,
          -38.052625,
          -37.97359,
          -37.82665,
          -37.80543,
          -37.83831,
          -38.06503,
          -37.861259999999994,
          -38.1452,
          -37.82455,
          -37.7854,
          -37.7063,
          -37.9093,
          -37.91773500000001,
          -37.68489,
          -37.694535,
          -37.82212,
          -37.76445,
          -37.77315,
          -37.7624,
          -37.7697,
          -37.47154000000001,
          -37.696945,
          -37.8288,
          -37.7483,
          -37.733155,
          -37.851315,
          -37.852605000000004,
          -37.761185,
          -37.841590000000004,
          -37.670445,
          -37.8264,
          -37.79806,
          -37.7831,
          -37.8944,
          -37.731505,
          -38.07916,
          -38.10346,
          -37.886449999999996,
          -37.885279999999995,
          -37.86805,
          -37.89524,
          -37.88093,
          -38.046659999999996,
          -38.04415,
          -37.96395,
          -37.752134999999996,
          -37.937645,
          -37.91955,
          -37.93869,
          -37.7918,
          -37.745870000000004,
          -37.729600000000005,
          -37.79831,
          -37.660635,
          -37.58633999999999,
          -38.106905,
          -38.07202,
          -37.828025,
          -37.793445000000006,
          -37.77936,
          -37.767115,
          -37.8163,
          -37.667809999999996,
          -37.987264999999994,
          -37.95058,
          -37.812305,
          -37.77382,
          -37.7145,
          -37.78774,
          -37.67662,
          -37.624959999999994,
          -37.98145,
          -37.782779999999995,
          -37.78643,
          -37.79684,
          -37.605869999999996,
          -37.994965,
          -37.762150000000005,
          -37.8136,
          -38.0371,
          -37.8857,
          -37.709295,
          -37.696315,
          -37.880140000000004,
          -37.938445,
          -37.977759999999996,
          -37.64162,
          -37.7504,
          -37.73765,
          -37.75204,
          -37.77335,
          -37.707300000000004,
          -37.885315,
          -37.7974,
          -37.78355,
          -37.7839,
          -37.79583,
          -37.83945,
          -38.147335,
          -38.12023,
          -38.162949999999995,
          -37.898455,
          -37.49246,
          -37.543,
          -37.688,
          -37.8904,
          -37.8547,
          -37.884025,
          -37.70175,
          -37.70493,
          -37.700784999999996,
          -37.64221,
          -37.71025,
          -38.001225000000005,
          -37.93875,
          -37.941629999999996,
          -38.037755,
          -37.819355,
          -37.829615000000004,
          -37.64685,
          -37.830265,
          -37.750550000000004,
          -37.742450000000005,
          -37.73837,
          -37.94882,
          -37.68974,
          -37.86991999999999,
          -37.899249999999995,
          -37.90822,
          -37.638259999999995,
          -37.76515,
          -37.77212,
          -37.6878,
          -37.7358,
          -37.713989999999995,
          -37.719879999999996,
          -37.7435,
          -37.69924,
          -37.72355,
          -37.7926,
          -37.804500000000004,
          -37.793054999999995,
          -37.98916,
          -37.80065,
          -37.73165,
          -37.71295,
          -37.8083,
          -37.87695,
          -37.84391,
          -37.6666,
          -37.66983999999999,
          -38.150985000000006,
          -37.72774,
          -37.91857,
          -37.78502,
          -37.8613,
          -37.87665,
          -37.773685,
          -37.90898,
          -37.651615,
          -37.81301,
          -37.68707,
          -37.70481,
          -37.6738,
          -37.9797,
          -37.59665,
          -37.542925000000004,
          -37.851420000000005,
          -37.6682,
          -37.815435,
          -37.8161,
          -37.721959999999996,
          -37.810179999999995,
          -37.7672,
          -37.93945,
          -37.78156,
          -38.001999999999995,
          -37.78495,
          -37.88007,
          -37.928290000000004,
          -37.89561,
          -38.00708,
          -37.8437,
          -37.740159999999996,
          -37.9678,
          -37.8,
          -37.72582,
          -37.771705,
          -37.90521,
          -37.81113,
          -37.71679,
          -37.902105,
          -37.902045,
          -37.92295,
          -38.07273,
          -37.9035,
          -38.07652,
          -37.994730000000004,
          -37.7931,
          -37.7237,
          -38.06049,
          -37.71429000000001,
          -37.900995,
          -37.8382,
          -37.851665,
          -37.74032,
          -37.782509999999995,
          -37.70199,
          -37.71141,
          -37.8198,
          -37.45709,
          -37.816375,
          -37.811475,
          -37.798045,
          -37.87886,
          -37.738905,
          -37.924139999999994,
          -37.6295,
          -38.08069,
          -37.952105,
          -37.891145,
          -37.87793,
          -38.10309,
          -37.8641,
          -37.8066,
          -38.09206999999999,
          -37.831435,
          -37.8356,
          -37.63552,
          -37.8404,
          -37.8267,
          -37.82867,
          -37.94282000000001,
          -37.980309999999996,
          -37.7398,
          -37.68508,
          -37.864395,
          -37.73471,
          -37.713570000000004,
          -37.579609999999995,
          -37.78805,
          -37.768865000000005,
          -37.791290000000004,
          -37.82671,
          -37.702935,
          -37.847429999999996,
          -37.71283000000001,
          -37.694959999999995,
          -37.761179999999996,
          -37.76562,
          -37.85971,
          -37.68123,
          -37.75815,
          -37.8424,
          -37.7813,
          -37.8428,
          -37.6971,
          -37.9075,
          -37.83636,
          -37.85785,
          -37.737314999999995,
          -37.413455,
          -37.854659999999996,
          -37.87615,
          -37.7488,
          -38.01345,
          -37.7115,
          -37.69878,
          -37.66773,
          -37.89353,
          -37.79613,
          -37.8076,
          -37.67841,
          -37.90851000000001,
          -37.51232,
          -37.85641,
          -37.86109999999999,
          -37.856165000000004,
          -37.855805000000004,
          -37.61722,
          -37.890005,
          -37.729079999999996,
          -37.653909999999996,
          -37.81612
         ],
         "legendgroup": "",
         "lon": [
          144.9961,
          144.89799,
          144.87919499999998,
          144.7672,
          144.95195,
          144.8175,
          145.0307,
          144.81875,
          144.779225,
          144.84905,
          144.79975,
          145.0182,
          144.91428,
          145.07760000000002,
          145.10264,
          145.10187,
          145.12325999999996,
          144.888655,
          144.85979,
          144.42379,
          144.9955,
          145.0826,
          145.0888,
          145.25798999999995,
          145.291225,
          145.38464,
          145.41081,
          145.03839,
          145.0367,
          145.041,
          145.06925,
          145.33926499999998,
          145.01883999999995,
          145.15735,
          145.15668,
          145.14455,
          145.12454000000002,
          145.2864,
          145.2512,
          145.1274,
          144.8523,
          145.11928999999995,
          144.9991,
          145.01728500000002,
          144.92685,
          144.549825,
          144.8447,
          144.96368,
          144.9753,
          144.94242500000001,
          145.0918,
          144.53828000000001,
          145.05710499999998,
          145.0089,
          144.74609,
          144.75526,
          145.10903000000002,
          145.15031999999997,
          144.78681999999998,
          145.0743,
          144.954285,
          145.0741,
          144.9697,
          144.9721,
          145.0561,
          144.734545,
          145.130775,
          145.18248,
          145.0272,
          145.04548,
          145.022165,
          145.02200000000005,
          145.102,
          145.12354,
          145.13306000000003,
          145.06741499999998,
          145.31122,
          145.107655,
          145.128575,
          145.11986000000005,
          144.9984,
          144.9611,
          144.97063500000002,
          144.9883,
          144.93095499999998,
          144.91728500000005,
          145.28875,
          145.27369,
          144.99170000000004,
          145.28751,
          145.26256,
          145.288975,
          145.2785,
          144.93747,
          145.20871,
          145.209945,
          145.064,
          144.76458,
          144.77043,
          144.75637,
          145.157445,
          144.71243,
          145.12811000000005,
          145.12733,
          145.1571,
          145.181,
          145.12287,
          145.235565,
          145.05925000000002,
          144.98494,
          145.11717,
          145.00804999999997,
          145.15485,
          145.14497,
          144.9873,
          145.44306,
          145.26047,
          145.03721000000004,
          144.91061000000005,
          144.9022,
          144.8859,
          145.01794999999998,
          144.9679,
          145.27593000000002,
          144.9787,
          144.9823,
          144.92902500000002,
          144.89076,
          145.16923,
          145.146975,
          145.14973,
          145.11812500000002,
          145.00995,
          144.598085,
          144.5969,
          144.89084,
          145.04038,
          145.0656,
          145.159105,
          144.92541,
          144.8976,
          145.10114000000004,
          144.89113,
          144.94684999999998,
          145.26506999999998,
          145.00965,
          145.0322,
          145.26110500000004,
          145.0308,
          145.05078,
          145.52635,
          145.24357,
          145.069415,
          145.05229,
          145.0398,
          145.03099,
          144.74584,
          144.68630000000002,
          145.08119000000002,
          145.10851,
          145.1991,
          145.04065,
          145.0605,
          144.91105,
          144.8246,
          144.82683,
          144.80882,
          144.86747,
          144.79452,
          144.85805,
          144.9274,
          145.037365,
          145.05270000000002,
          145.16158000000001,
          145.30733999999995,
          144.77624,
          145.034,
          144.8809,
          145.25241,
          145.03376,
          144.59643,
          145.022655,
          145.18784,
          145.12027999999998,
          145.27292,
          144.8729,
          145.0353,
          145.055415,
          144.8886,
          145.03393,
          144.91959,
          144.9623,
          144.57903,
          144.573125,
          144.55784,
          145.06937,
          145.08809,
          144.89911,
          144.96265,
          145.0618,
          145.19783,
          145.1098,
          145.12511,
          145.35396,
          144.91783,
          145.0474,
          145.32513,
          145.09425,
          145.39115,
          145.128,
          145.17123,
          145.0709,
          145.301615,
          144.87738000000004,
          144.88613500000002,
          145.181305,
          144.9475,
          145.20868000000004,
          144.999545,
          145.14866,
          145.17885,
          144.9165,
          145.09735,
          145.116075,
          145.08592,
          145.43373,
          145.04273999999995,
          145.47262,
          145.08407,
          144.9565,
          144.9402,
          145.14094,
          144.72492,
          144.74063500000003,
          144.94021,
          145.00261999999998,
          145.00635,
          144.9681,
          145.18138000000005,
          145.00957499999998,
          145.0029,
          144.68999,
          145.23189000000002,
          145.25296500000002,
          145.226815,
          144.99689999999998,
          145.07165,
          145.24751,
          144.92774,
          145.20675,
          145.01767999999998,
          145.22156999999999,
          144.75626,
          145.13397,
          144.84313500000002,
          144.8896,
          145.20181000000002,
          144.8703,
          144.96055,
          145.08584,
          144.99085000000002,
          144.96669500000002,
          144.8841,
          145.15888,
          145.15497,
          144.8027,
          145.1395,
          144.9805,
          144.91705000000002,
          144.89674,
          144.7117,
          144.838215,
          144.833825,
          144.80925,
          145.0969,
          144.758065,
          144.66697,
          144.75137999999998,
          144.78505,
          145.14123,
          145.11183,
          145.31036,
          145.00750499999998,
          145.00317,
          145.0125,
          144.9371,
          144.71958999999998,
          144.88002,
          145.3198,
          145.20086999999998,
          145.18223,
          145.08921999999995,
          144.97977500000002,
          145.23162,
          145.22973000000005,
          145.19813,
          145.1342,
          145.0825,
          145.08856,
          145.1824,
          144.660425,
          144.8703,
          144.9456,
          144.88468,
          145.185315,
          145.13282,
          144.739855,
          144.89279499999998,
          144.88312,
          144.99759,
          145.0238,
          144.62131000000002,
          145.087675,
          145.37389,
          144.8875
         ],
         "marker": {
          "color": [
           1176500,
           1350000,
           771500,
           555000,
           1825000,
           600000,
           1646250,
           747500,
           675250,
           791000,
           638500,
           1435000,
           1050000,
           1667500,
           1200000,
           970000,
           839375,
           830000,
           790000,
           412000,
           570000,
           2100000,
           1837500,
           822000,
           743000,
           670000,
           675000,
           1850000,
           795000,
           1320000,
           1127500,
           735000,
           1080000,
           1350000,
           1140000,
           1229000,
           1040500,
           770000,
           750000,
           1480700,
           645000,
           825000,
           1995000,
           1652500,
           570500,
           497000,
           515000,
           1036250,
           1012500,
           822500,
           1100000,
           865000,
           770000,
           1333005,
           642500,
           584000,
           1310000,
           1091000,
           687000,
           1987000,
           658000,
           2375000,
           910000,
           1650000,
           850000,
           623000,
           668750,
           546000,
           600000,
           1472000,
           595000,
           1350000,
           930000,
           840000,
           728500,
           1020000,
           838491,
           936650,
           1022000,
           950000,
           1209000,
           903000,
           800500,
           905000,
           477500,
           561250,
           815254,
           500000,
           1130000,
           859000,
           905000,
           827500,
           952000,
           506000,
           657000,
           666900,
           2380000,
           589000,
           600000,
           695000,
           782500,
           550000,
           900000,
           1350000,
           1330000,
           1070000,
           553500,
           508750,
           1700000,
           1300000,
           875000,
           1320000,
           957500,
           912500,
           715000,
           558500,
           676000,
           616000,
           1150000,
           757500,
           1207500,
           1252500,
           643500,
           845000,
           1100000,
           1325000,
           946500,
           760000,
           1088000,
           648944,
           500000,
           887500,
           1066500,
           657500,
           1350000,
           667500,
           710000,
           1760000,
           1296000,
           680000,
           704500,
           841000,
           730000,
           692750,
           623000,
           1722500,
           1150000,
           512500,
           1165000,
           1457500,
           650000,
           922000,
           831500,
           692500,
           640000,
           1280000,
           666000,
           538250,
           1206750,
           1145000,
           790000,
           1310000,
           1797000,
           570000,
           600000,
           867500,
           700000,
           835000,
           653000,
           685000,
           825000,
           1800000,
           1935000,
           771000,
           780000,
           545000,
           608750,
           962500,
           935000,
           3080000,
           375000,
           623500,
           600000,
           753750,
           730000,
           681000,
           2050000,
           1567500,
           874750,
           1312000,
           511000,
           535000,
           410000,
           416500,
           438000,
           960500,
           610000,
           982500,
           2170000,
           702000,
           997500,
           1815000,
           850000,
           735000,
           1210000,
           1000000,
           696000,
           1300000,
           620000,
           1408000,
           880000,
           1090000,
           628500,
           962000,
           1065000,
           685500,
           720000,
           902000,
           1270500,
           1100000,
           1002000,
           770000,
           1170000,
           954500,
           993000,
           563000,
           1103000,
           493000,
           1285000,
           1805000,
           750000,
           975000,
           625500,
           666500,
           1200000,
           1077500,
           905000,
           1900000,
           930000,
           650000,
           1074000,
           817000,
           932500,
           906000,
           848500,
           656750,
           930000,
           885000,
           570000,
           642500,
           1715000,
           1001000,
           570000,
           790000,
           1387500,
           970000,
           537849,
           690000,
           1372500,
           650000,
           833000,
           600000,
           883250,
           880000,
           700000,
           610000,
           897000,
           577500,
           1310000,
           965999.5,
           516500,
           737500,
           657500,
           588000,
           1850000,
           634000,
           516000,
           677500,
           751000,
           1501333,
           1211000,
           477000,
           654000,
           1092500,
           1350000,
           972000,
           588500,
           695000,
           1075000,
           1122250,
           1202000,
           930000,
           420500,
           975000,
           1180000,
           1196500,
           1232000,
           702000,
           710000,
           835000,
           507500,
           850000,
           800000,
           635000,
           1170500,
           601000,
           700000,
           1320000,
           953500,
           815000,
           615000,
           488000,
           817500,
           620000,
           982500
          ],
          "coloraxis": "coloraxis",
          "size": [
           1176500,
           1350000,
           771500,
           555000,
           1825000,
           600000,
           1646250,
           747500,
           675250,
           791000,
           638500,
           1435000,
           1050000,
           1667500,
           1200000,
           970000,
           839375,
           830000,
           790000,
           412000,
           570000,
           2100000,
           1837500,
           822000,
           743000,
           670000,
           675000,
           1850000,
           795000,
           1320000,
           1127500,
           735000,
           1080000,
           1350000,
           1140000,
           1229000,
           1040500,
           770000,
           750000,
           1480700,
           645000,
           825000,
           1995000,
           1652500,
           570500,
           497000,
           515000,
           1036250,
           1012500,
           822500,
           1100000,
           865000,
           770000,
           1333005,
           642500,
           584000,
           1310000,
           1091000,
           687000,
           1987000,
           658000,
           2375000,
           910000,
           1650000,
           850000,
           623000,
           668750,
           546000,
           600000,
           1472000,
           595000,
           1350000,
           930000,
           840000,
           728500,
           1020000,
           838491,
           936650,
           1022000,
           950000,
           1209000,
           903000,
           800500,
           905000,
           477500,
           561250,
           815254,
           500000,
           1130000,
           859000,
           905000,
           827500,
           952000,
           506000,
           657000,
           666900,
           2380000,
           589000,
           600000,
           695000,
           782500,
           550000,
           900000,
           1350000,
           1330000,
           1070000,
           553500,
           508750,
           1700000,
           1300000,
           875000,
           1320000,
           957500,
           912500,
           715000,
           558500,
           676000,
           616000,
           1150000,
           757500,
           1207500,
           1252500,
           643500,
           845000,
           1100000,
           1325000,
           946500,
           760000,
           1088000,
           648944,
           500000,
           887500,
           1066500,
           657500,
           1350000,
           667500,
           710000,
           1760000,
           1296000,
           680000,
           704500,
           841000,
           730000,
           692750,
           623000,
           1722500,
           1150000,
           512500,
           1165000,
           1457500,
           650000,
           922000,
           831500,
           692500,
           640000,
           1280000,
           666000,
           538250,
           1206750,
           1145000,
           790000,
           1310000,
           1797000,
           570000,
           600000,
           867500,
           700000,
           835000,
           653000,
           685000,
           825000,
           1800000,
           1935000,
           771000,
           780000,
           545000,
           608750,
           962500,
           935000,
           3080000,
           375000,
           623500,
           600000,
           753750,
           730000,
           681000,
           2050000,
           1567500,
           874750,
           1312000,
           511000,
           535000,
           410000,
           416500,
           438000,
           960500,
           610000,
           982500,
           2170000,
           702000,
           997500,
           1815000,
           850000,
           735000,
           1210000,
           1000000,
           696000,
           1300000,
           620000,
           1408000,
           880000,
           1090000,
           628500,
           962000,
           1065000,
           685500,
           720000,
           902000,
           1270500,
           1100000,
           1002000,
           770000,
           1170000,
           954500,
           993000,
           563000,
           1103000,
           493000,
           1285000,
           1805000,
           750000,
           975000,
           625500,
           666500,
           1200000,
           1077500,
           905000,
           1900000,
           930000,
           650000,
           1074000,
           817000,
           932500,
           906000,
           848500,
           656750,
           930000,
           885000,
           570000,
           642500,
           1715000,
           1001000,
           570000,
           790000,
           1387500,
           970000,
           537849,
           690000,
           1372500,
           650000,
           833000,
           600000,
           883250,
           880000,
           700000,
           610000,
           897000,
           577500,
           1310000,
           965999.5,
           516500,
           737500,
           657500,
           588000,
           1850000,
           634000,
           516000,
           677500,
           751000,
           1501333,
           1211000,
           477000,
           654000,
           1092500,
           1350000,
           972000,
           588500,
           695000,
           1075000,
           1122250,
           1202000,
           930000,
           420500,
           975000,
           1180000,
           1196500,
           1232000,
           702000,
           710000,
           835000,
           507500,
           850000,
           800000,
           635000,
           1170500,
           601000,
           700000,
           1320000,
           953500,
           815000,
           615000,
           488000,
           817500,
           620000,
           982500
          ],
          "sizemode": "area",
          "sizeref": 7700
         },
         "mode": "markers",
         "name": "",
         "showlegend": false,
         "subplot": "mapbox",
         "type": "scattermapbox"
        }
       ],
       "layout": {
        "coloraxis": {
         "colorbar": {
          "title": {
           "text": "Price"
          }
         },
         "colorscale": [
          [
           0,
           "#000000"
          ],
          [
           0.0625,
           "#001f4d"
          ],
          [
           0.125,
           "#003786"
          ],
          [
           0.1875,
           "#0e58a8"
          ],
          [
           0.25,
           "#217eb8"
          ],
          [
           0.3125,
           "#30a4ca"
          ],
          [
           0.375,
           "#54c8df"
          ],
          [
           0.4375,
           "#9be4ef"
          ],
          [
           0.5,
           "#e1e9d1"
          ],
          [
           0.5625,
           "#f3d573"
          ],
          [
           0.625,
           "#e7b000"
          ],
          [
           0.6875,
           "#da8200"
          ],
          [
           0.75,
           "#c65400"
          ],
          [
           0.8125,
           "#ac2301"
          ],
          [
           0.875,
           "#820000"
          ],
          [
           0.9375,
           "#4c0000"
          ],
          [
           1,
           "#000000"
          ]
         ]
        },
        "geo": {
         "fitbounds": "locations",
         "projection": {
          "type": "orthographic"
         },
         "visible": true
        },
        "legend": {
         "itemsizing": "constant",
         "tracegroupgap": 0
        },
        "mapbox": {
         "center": {
          "lat": -37.8136,
          "lon": 144.9631
         },
         "domain": {
          "x": [
           0,
           1
          ],
          "y": [
           0,
           1
          ]
         },
         "style": "open-street-map",
         "zoom": 12
        },
        "margin": {
         "b": 20,
         "l": 20,
         "r": 20,
         "t": 40
        },
        "template": {
         "data": {
          "bar": [
           {
            "error_x": {
             "color": "#f2f5fa"
            },
            "error_y": {
             "color": "#f2f5fa"
            },
            "marker": {
             "line": {
              "color": "rgb(17,17,17)",
              "width": 0.5
             },
             "pattern": {
              "fillmode": "overlay",
              "size": 10,
              "solidity": 0.2
             }
            },
            "type": "bar"
           }
          ],
          "barpolar": [
           {
            "marker": {
             "line": {
              "color": "rgb(17,17,17)",
              "width": 0.5
             },
             "pattern": {
              "fillmode": "overlay",
              "size": 10,
              "solidity": 0.2
             }
            },
            "type": "barpolar"
           }
          ],
          "carpet": [
           {
            "aaxis": {
             "endlinecolor": "#A2B1C6",
             "gridcolor": "#506784",
             "linecolor": "#506784",
             "minorgridcolor": "#506784",
             "startlinecolor": "#A2B1C6"
            },
            "baxis": {
             "endlinecolor": "#A2B1C6",
             "gridcolor": "#506784",
             "linecolor": "#506784",
             "minorgridcolor": "#506784",
             "startlinecolor": "#A2B1C6"
            },
            "type": "carpet"
           }
          ],
          "choropleth": [
           {
            "colorbar": {
             "outlinewidth": 0,
             "ticks": ""
            },
            "type": "choropleth"
           }
          ],
          "contour": [
           {
            "colorbar": {
             "outlinewidth": 0,
             "ticks": ""
            },
            "colorscale": [
             [
              0,
              "#0d0887"
             ],
             [
              0.1111111111111111,
              "#46039f"
             ],
             [
              0.2222222222222222,
              "#7201a8"
             ],
             [
              0.3333333333333333,
              "#9c179e"
             ],
             [
              0.4444444444444444,
              "#bd3786"
             ],
             [
              0.5555555555555556,
              "#d8576b"
             ],
             [
              0.6666666666666666,
              "#ed7953"
             ],
             [
              0.7777777777777778,
              "#fb9f3a"
             ],
             [
              0.8888888888888888,
              "#fdca26"
             ],
             [
              1,
              "#f0f921"
             ]
            ],
            "type": "contour"
           }
          ],
          "contourcarpet": [
           {
            "colorbar": {
             "outlinewidth": 0,
             "ticks": ""
            },
            "type": "contourcarpet"
           }
          ],
          "heatmap": [
           {
            "colorbar": {
             "outlinewidth": 0,
             "ticks": ""
            },
            "colorscale": [
             [
              0,
              "#0d0887"
             ],
             [
              0.1111111111111111,
              "#46039f"
             ],
             [
              0.2222222222222222,
              "#7201a8"
             ],
             [
              0.3333333333333333,
              "#9c179e"
             ],
             [
              0.4444444444444444,
              "#bd3786"
             ],
             [
              0.5555555555555556,
              "#d8576b"
             ],
             [
              0.6666666666666666,
              "#ed7953"
             ],
             [
              0.7777777777777778,
              "#fb9f3a"
             ],
             [
              0.8888888888888888,
              "#fdca26"
             ],
             [
              1,
              "#f0f921"
             ]
            ],
            "type": "heatmap"
           }
          ],
          "heatmapgl": [
           {
            "colorbar": {
             "outlinewidth": 0,
             "ticks": ""
            },
            "colorscale": [
             [
              0,
              "#0d0887"
             ],
             [
              0.1111111111111111,
              "#46039f"
             ],
             [
              0.2222222222222222,
              "#7201a8"
             ],
             [
              0.3333333333333333,
              "#9c179e"
             ],
             [
              0.4444444444444444,
              "#bd3786"
             ],
             [
              0.5555555555555556,
              "#d8576b"
             ],
             [
              0.6666666666666666,
              "#ed7953"
             ],
             [
              0.7777777777777778,
              "#fb9f3a"
             ],
             [
              0.8888888888888888,
              "#fdca26"
             ],
             [
              1,
              "#f0f921"
             ]
            ],
            "type": "heatmapgl"
           }
          ],
          "histogram": [
           {
            "marker": {
             "pattern": {
              "fillmode": "overlay",
              "size": 10,
              "solidity": 0.2
             }
            },
            "type": "histogram"
           }
          ],
          "histogram2d": [
           {
            "colorbar": {
             "outlinewidth": 0,
             "ticks": ""
            },
            "colorscale": [
             [
              0,
              "#0d0887"
             ],
             [
              0.1111111111111111,
              "#46039f"
             ],
             [
              0.2222222222222222,
              "#7201a8"
             ],
             [
              0.3333333333333333,
              "#9c179e"
             ],
             [
              0.4444444444444444,
              "#bd3786"
             ],
             [
              0.5555555555555556,
              "#d8576b"
             ],
             [
              0.6666666666666666,
              "#ed7953"
             ],
             [
              0.7777777777777778,
              "#fb9f3a"
             ],
             [
              0.8888888888888888,
              "#fdca26"
             ],
             [
              1,
              "#f0f921"
             ]
            ],
            "type": "histogram2d"
           }
          ],
          "histogram2dcontour": [
           {
            "colorbar": {
             "outlinewidth": 0,
             "ticks": ""
            },
            "colorscale": [
             [
              0,
              "#0d0887"
             ],
             [
              0.1111111111111111,
              "#46039f"
             ],
             [
              0.2222222222222222,
              "#7201a8"
             ],
             [
              0.3333333333333333,
              "#9c179e"
             ],
             [
              0.4444444444444444,
              "#bd3786"
             ],
             [
              0.5555555555555556,
              "#d8576b"
             ],
             [
              0.6666666666666666,
              "#ed7953"
             ],
             [
              0.7777777777777778,
              "#fb9f3a"
             ],
             [
              0.8888888888888888,
              "#fdca26"
             ],
             [
              1,
              "#f0f921"
             ]
            ],
            "type": "histogram2dcontour"
           }
          ],
          "mesh3d": [
           {
            "colorbar": {
             "outlinewidth": 0,
             "ticks": ""
            },
            "type": "mesh3d"
           }
          ],
          "parcoords": [
           {
            "line": {
             "colorbar": {
              "outlinewidth": 0,
              "ticks": ""
             }
            },
            "type": "parcoords"
           }
          ],
          "pie": [
           {
            "automargin": true,
            "type": "pie"
           }
          ],
          "scatter": [
           {
            "marker": {
             "line": {
              "color": "#283442"
             }
            },
            "type": "scatter"
           }
          ],
          "scatter3d": [
           {
            "line": {
             "colorbar": {
              "outlinewidth": 0,
              "ticks": ""
             }
            },
            "marker": {
             "colorbar": {
              "outlinewidth": 0,
              "ticks": ""
             }
            },
            "type": "scatter3d"
           }
          ],
          "scattercarpet": [
           {
            "marker": {
             "colorbar": {
              "outlinewidth": 0,
              "ticks": ""
             }
            },
            "type": "scattercarpet"
           }
          ],
          "scattergeo": [
           {
            "marker": {
             "colorbar": {
              "outlinewidth": 0,
              "ticks": ""
             }
            },
            "type": "scattergeo"
           }
          ],
          "scattergl": [
           {
            "marker": {
             "line": {
              "color": "#283442"
             }
            },
            "type": "scattergl"
           }
          ],
          "scattermapbox": [
           {
            "marker": {
             "colorbar": {
              "outlinewidth": 0,
              "ticks": ""
             }
            },
            "type": "scattermapbox"
           }
          ],
          "scatterpolar": [
           {
            "marker": {
             "colorbar": {
              "outlinewidth": 0,
              "ticks": ""
             }
            },
            "type": "scatterpolar"
           }
          ],
          "scatterpolargl": [
           {
            "marker": {
             "colorbar": {
              "outlinewidth": 0,
              "ticks": ""
             }
            },
            "type": "scatterpolargl"
           }
          ],
          "scatterternary": [
           {
            "marker": {
             "colorbar": {
              "outlinewidth": 0,
              "ticks": ""
             }
            },
            "type": "scatterternary"
           }
          ],
          "surface": [
           {
            "colorbar": {
             "outlinewidth": 0,
             "ticks": ""
            },
            "colorscale": [
             [
              0,
              "#0d0887"
             ],
             [
              0.1111111111111111,
              "#46039f"
             ],
             [
              0.2222222222222222,
              "#7201a8"
             ],
             [
              0.3333333333333333,
              "#9c179e"
             ],
             [
              0.4444444444444444,
              "#bd3786"
             ],
             [
              0.5555555555555556,
              "#d8576b"
             ],
             [
              0.6666666666666666,
              "#ed7953"
             ],
             [
              0.7777777777777778,
              "#fb9f3a"
             ],
             [
              0.8888888888888888,
              "#fdca26"
             ],
             [
              1,
              "#f0f921"
             ]
            ],
            "type": "surface"
           }
          ],
          "table": [
           {
            "cells": {
             "fill": {
              "color": "#506784"
             },
             "line": {
              "color": "rgb(17,17,17)"
             }
            },
            "header": {
             "fill": {
              "color": "#2a3f5f"
             },
             "line": {
              "color": "rgb(17,17,17)"
             }
            },
            "type": "table"
           }
          ]
         },
         "layout": {
          "annotationdefaults": {
           "arrowcolor": "#f2f5fa",
           "arrowhead": 0,
           "arrowwidth": 1
          },
          "autotypenumbers": "strict",
          "coloraxis": {
           "colorbar": {
            "outlinewidth": 0,
            "ticks": ""
           }
          },
          "colorscale": {
           "diverging": [
            [
             0,
             "#8e0152"
            ],
            [
             0.1,
             "#c51b7d"
            ],
            [
             0.2,
             "#de77ae"
            ],
            [
             0.3,
             "#f1b6da"
            ],
            [
             0.4,
             "#fde0ef"
            ],
            [
             0.5,
             "#f7f7f7"
            ],
            [
             0.6,
             "#e6f5d0"
            ],
            [
             0.7,
             "#b8e186"
            ],
            [
             0.8,
             "#7fbc41"
            ],
            [
             0.9,
             "#4d9221"
            ],
            [
             1,
             "#276419"
            ]
           ],
           "sequential": [
            [
             0,
             "#0d0887"
            ],
            [
             0.1111111111111111,
             "#46039f"
            ],
            [
             0.2222222222222222,
             "#7201a8"
            ],
            [
             0.3333333333333333,
             "#9c179e"
            ],
            [
             0.4444444444444444,
             "#bd3786"
            ],
            [
             0.5555555555555556,
             "#d8576b"
            ],
            [
             0.6666666666666666,
             "#ed7953"
            ],
            [
             0.7777777777777778,
             "#fb9f3a"
            ],
            [
             0.8888888888888888,
             "#fdca26"
            ],
            [
             1,
             "#f0f921"
            ]
           ],
           "sequentialminus": [
            [
             0,
             "#0d0887"
            ],
            [
             0.1111111111111111,
             "#46039f"
            ],
            [
             0.2222222222222222,
             "#7201a8"
            ],
            [
             0.3333333333333333,
             "#9c179e"
            ],
            [
             0.4444444444444444,
             "#bd3786"
            ],
            [
             0.5555555555555556,
             "#d8576b"
            ],
            [
             0.6666666666666666,
             "#ed7953"
            ],
            [
             0.7777777777777778,
             "#fb9f3a"
            ],
            [
             0.8888888888888888,
             "#fdca26"
            ],
            [
             1,
             "#f0f921"
            ]
           ]
          },
          "colorway": [
           "#636efa",
           "#EF553B",
           "#00cc96",
           "#ab63fa",
           "#FFA15A",
           "#19d3f3",
           "#FF6692",
           "#B6E880",
           "#FF97FF",
           "#FECB52"
          ],
          "font": {
           "color": "#f2f5fa"
          },
          "geo": {
           "bgcolor": "rgb(17,17,17)",
           "lakecolor": "rgb(17,17,17)",
           "landcolor": "rgb(17,17,17)",
           "showlakes": true,
           "showland": true,
           "subunitcolor": "#506784"
          },
          "hoverlabel": {
           "align": "left"
          },
          "hovermode": "closest",
          "mapbox": {
           "style": "dark"
          },
          "paper_bgcolor": "rgb(17,17,17)",
          "plot_bgcolor": "rgb(17,17,17)",
          "polar": {
           "angularaxis": {
            "gridcolor": "#506784",
            "linecolor": "#506784",
            "ticks": ""
           },
           "bgcolor": "rgb(17,17,17)",
           "radialaxis": {
            "gridcolor": "#506784",
            "linecolor": "#506784",
            "ticks": ""
           }
          },
          "scene": {
           "xaxis": {
            "backgroundcolor": "rgb(17,17,17)",
            "gridcolor": "#506784",
            "gridwidth": 2,
            "linecolor": "#506784",
            "showbackground": true,
            "ticks": "",
            "zerolinecolor": "#C8D4E3"
           },
           "yaxis": {
            "backgroundcolor": "rgb(17,17,17)",
            "gridcolor": "#506784",
            "gridwidth": 2,
            "linecolor": "#506784",
            "showbackground": true,
            "ticks": "",
            "zerolinecolor": "#C8D4E3"
           },
           "zaxis": {
            "backgroundcolor": "rgb(17,17,17)",
            "gridcolor": "#506784",
            "gridwidth": 2,
            "linecolor": "#506784",
            "showbackground": true,
            "ticks": "",
            "zerolinecolor": "#C8D4E3"
           }
          },
          "shapedefaults": {
           "line": {
            "color": "#f2f5fa"
           }
          },
          "sliderdefaults": {
           "bgcolor": "#C8D4E3",
           "bordercolor": "rgb(17,17,17)",
           "borderwidth": 1,
           "tickwidth": 0
          },
          "ternary": {
           "aaxis": {
            "gridcolor": "#506784",
            "linecolor": "#506784",
            "ticks": ""
           },
           "baxis": {
            "gridcolor": "#506784",
            "linecolor": "#506784",
            "ticks": ""
           },
           "bgcolor": "rgb(17,17,17)",
           "caxis": {
            "gridcolor": "#506784",
            "linecolor": "#506784",
            "ticks": ""
           }
          },
          "title": {
           "x": 0.05
          },
          "updatemenudefaults": {
           "bgcolor": "#506784",
           "borderwidth": 0
          },
          "xaxis": {
           "automargin": true,
           "gridcolor": "#283442",
           "linecolor": "#506784",
           "ticks": "",
           "title": {
            "standoff": 15
           },
           "zerolinecolor": "#283442",
           "zerolinewidth": 2
          },
          "yaxis": {
           "automargin": true,
           "gridcolor": "#283442",
           "linecolor": "#506784",
           "ticks": "",
           "title": {
            "standoff": 15
           },
           "zerolinecolor": "#283442",
           "zerolinewidth": 2
          }
         }
        },
        "title": {
         "text": "Average Price in different suburbs and regions"
        }
       }
      },
      "text/html": [
       "<div>                            <div id=\"2c13e14d-feac-455b-b7d2-305e82c471ff\" class=\"plotly-graph-div\" style=\"height:525px; width:100%;\"></div>            <script type=\"text/javascript\">                require([\"plotly\"], function(Plotly) {                    window.PLOTLYENV=window.PLOTLYENV || {};                                    if (document.getElementById(\"2c13e14d-feac-455b-b7d2-305e82c471ff\")) {                    Plotly.newPlot(                        \"2c13e14d-feac-455b-b7d2-305e82c471ff\",                        [{\"customdata\":[[\"Northern Metropolitan\",\"Abbotsford\",1176500.0],[\"Western Metropolitan\",\"Aberfeldie\",1350000.0],[\"Western Metropolitan\",\"Airport West\",771500.0],[\"Western Metropolitan\",\"Albanvale\",555000.0],[\"Southern Metropolitan\",\"Albert Park\",1825000.0],[\"Western Metropolitan\",\"Albion\",600000.0],[\"Northern Metropolitan\",\"Alphington\",1646250.0],[\"Western Metropolitan\",\"Altona\",747500.0],[\"Western Metropolitan\",\"Altona Meadows\",675250.0],[\"Western Metropolitan\",\"Altona North\",791000.0],[\"Western Metropolitan\",\"Ardeer\",638500.0],[\"Southern Metropolitan\",\"Armadale\",1435000.0],[\"Western Metropolitan\",\"Ascot Vale\",1050000.0],[\"Southern Metropolitan\",\"Ashburton\",1667500.0],[\"Southern Metropolitan\",\"Ashwood\",1200000.0],[\"South-Eastern Metropolitan\",\"Aspendale\",970000.0],[\"South-Eastern Metropolitan\",\"Aspendale Gardens\",839375.0],[\"Northern Metropolitan\",\"Attwood\",830000.0],[\"Western Metropolitan\",\"Avondale Heights\",790000.0],[\"Western Victoria\",\"Bacchus Marsh\",412000.0],[\"Southern Metropolitan\",\"Balaclava\",570000.0],[\"Southern Metropolitan\",\"Balwyn\",2100000.0],[\"Southern Metropolitan\",\"Balwyn North\",1837500.0],[\"Eastern Metropolitan\",\"Bayswater\",822000.0],[\"Eastern Metropolitan\",\"Bayswater North\",743000.0],[\"Eastern Victoria\",\"Beaconsfield\",670000.0],[\"Eastern Victoria\",\"Beaconsfield Upper\",675000.0],[\"Southern Metropolitan\",\"Beaumaris\",1850000.0],[\"Eastern Metropolitan\",\"Bellfield\",795000.0],[\"Southern Metropolitan\",\"Bentleigh\",1320000.0],[\"Southern Metropolitan\",\"Bentleigh East\",1127500.0],[\"Eastern Victoria\",\"Berwick\",735000.0],[\"Southern Metropolitan\",\"Black Rock\",1080000.0],[\"Eastern Metropolitan\",\"Blackburn\",1350000.0],[\"Eastern Metropolitan\",\"Blackburn North\",1140000.0],[\"Eastern Metropolitan\",\"Blackburn South\",1229000.0],[\"South-Eastern Metropolitan\",\"Bonbeach\",1040500.0],[\"Eastern Metropolitan\",\"Boronia\",770000.0],[\"South-Eastern Metropolitan\",\"Botanic Ridge\",750000.0],[\"Eastern Metropolitan\",\"Box Hill\",1480700.0],[\"Western Metropolitan\",\"Braybrook\",645000.0],[\"Eastern Metropolitan\",\"Briar Hill\",825000.0],[\"Southern Metropolitan\",\"Brighton\",1995000.0],[\"Southern Metropolitan\",\"Brighton East\",1652500.0],[\"Northern Metropolitan\",\"Broadmeadows\",570500.0],[\"Western Victoria\",\"Brookfield\",497000.0],[\"Western Metropolitan\",\"Brooklyn\",515000.0],[\"Northern Metropolitan\",\"Brunswick\",1036250.0],[\"Northern Metropolitan\",\"Brunswick East\",1012500.0],[\"Northern Metropolitan\",\"Brunswick West\",822500.0],[\"Eastern Metropolitan\",\"Bulleen\",1100000.0],[\"Northern Victoria\",\"Bullengarook\",865000.0],[\"Northern Metropolitan\",\"Bundoora\",770000.0],[\"Northern Metropolitan\",\"Burnley\",1333005.0],[\"Western Metropolitan\",\"Burnside\",642500.0],[\"Western Metropolitan\",\"Burnside Heights\",584000.0],[\"Southern Metropolitan\",\"Burwood\",1310000.0],[\"Eastern Metropolitan\",\"Burwood East\",1091000.0],[\"Western Metropolitan\",\"Cairnlea\",687000.0],[\"Southern Metropolitan\",\"Camberwell\",1987000.0],[\"Northern Metropolitan\",\"Campbellfield\",658000.0],[\"Southern Metropolitan\",\"Canterbury\",2375000.0],[\"Northern Metropolitan\",\"Carlton\",910000.0],[\"Northern Metropolitan\",\"Carlton North\",1650000.0],[\"Southern Metropolitan\",\"Carnegie\",850000.0],[\"Western Metropolitan\",\"Caroline Springs\",623000.0],[\"South-Eastern Metropolitan\",\"Carrum\",668750.0],[\"South-Eastern Metropolitan\",\"Carrum Downs\",546000.0],[\"Southern Metropolitan\",\"Caulfield\",600000.0],[\"Southern Metropolitan\",\"Caulfield East\",1472000.0],[\"Southern Metropolitan\",\"Caulfield North\",595000.0],[\"Southern Metropolitan\",\"Caulfield South\",1350000.0],[\"Southern Metropolitan\",\"Chadstone\",930000.0],[\"South-Eastern Metropolitan\",\"Chelsea\",840000.0],[\"South-Eastern Metropolitan\",\"Chelsea Heights\",728500.0],[\"Southern Metropolitan\",\"Cheltenham\",1020000.0],[\"Eastern Victoria\",\"Chirnside Park\",838491.0],[\"South-Eastern Metropolitan\",\"Clarinda\",936650.0],[\"South-Eastern Metropolitan\",\"Clayton\",1022000.0],[\"South-Eastern Metropolitan\",\"Clayton South\",950000.0],[\"Northern Metropolitan\",\"Clifton Hill\",1209000.0],[\"Northern Metropolitan\",\"Coburg\",903000.0],[\"Northern Metropolitan\",\"Coburg North\",800500.0],[\"Northern Metropolitan\",\"Collingwood\",905000.0],[\"Northern Metropolitan\",\"Coolaroo\",477500.0],[\"Northern Metropolitan\",\"Craigieburn\",561250.0],[\"South-Eastern Metropolitan\",\"Cranbourne\",815254.0],[\"South-Eastern Metropolitan\",\"Cranbourne North\",500000.0],[\"Northern Metropolitan\",\"Cremorne\",1130000.0],[\"Eastern Metropolitan\",\"Croydon\",859000.0],[\"Eastern Metropolitan\",\"Croydon Hills\",905000.0],[\"Eastern Metropolitan\",\"Croydon North\",827500.0],[\"Eastern Metropolitan\",\"Croydon South\",952000.0],[\"Northern Metropolitan\",\"Dallas\",506000.0],[\"South-Eastern Metropolitan\",\"Dandenong\",657000.0],[\"South-Eastern Metropolitan\",\"Dandenong North\",666900.0],[\"Southern Metropolitan\",\"Deepdene\",2380000.0],[\"Western Metropolitan\",\"Deer Park\",589000.0],[\"Western Metropolitan\",\"Delahey\",600000.0],[\"Western Metropolitan\",\"Derrimut\",695000.0],[\"Northern Victoria\",\"Diamond Creek\",782500.0],[\"Western Metropolitan\",\"Diggers Rest\",550000.0],[\"South-Eastern Metropolitan\",\"Dingley Village\",900000.0],[\"Eastern Metropolitan\",\"Doncaster\",1350000.0],[\"Eastern Metropolitan\",\"Doncaster East\",1330000.0],[\"Eastern Metropolitan\",\"Donvale\",1070000.0],[\"Northern Victoria\",\"Doreen\",553500.0],[\"South-Eastern Metropolitan\",\"Doveton\",508750.0],[\"Eastern Metropolitan\",\"Eaglemont\",1700000.0],[\"Northern Metropolitan\",\"East Melbourne\",1300000.0],[\"South-Eastern Metropolitan\",\"Edithvale\",875000.0],[\"Southern Metropolitan\",\"Elsternwick\",1320000.0],[\"Eastern Metropolitan\",\"Eltham\",957500.0],[\"Eastern Metropolitan\",\"Eltham North\",912500.0],[\"Southern Metropolitan\",\"Elwood\",715000.0],[\"Eastern Victoria\",\"Emerald\",558500.0],[\"South-Eastern Metropolitan\",\"Endeavour Hills\",676000.0],[\"Northern Metropolitan\",\"Epping\",616000.0],[\"Western Metropolitan\",\"Essendon\",1150000.0],[\"Western Metropolitan\",\"Essendon North\",757500.0],[\"Western Metropolitan\",\"Essendon West\",1207500.0],[\"Northern Metropolitan\",\"Fairfield\",1252500.0],[\"Northern Metropolitan\",\"Fawkner\",643500.0],[\"Eastern Metropolitan\",\"Ferntree Gully\",845000.0],[\"Northern Metropolitan\",\"Fitzroy\",1100000.0],[\"Northern Metropolitan\",\"Fitzroy North\",1325000.0],[\"Northern Metropolitan\",\"Flemington\",946500.0],[\"Western Metropolitan\",\"Footscray\",760000.0],[\"Eastern Metropolitan\",\"Forest Hill\",1088000.0],[\"South-Eastern Metropolitan\",\"Frankston\",648944.0],[\"Eastern Victoria\",\"Frankston North\",500000.0],[\"South-Eastern Metropolitan\",\"Frankston South\",887500.0],[\"Southern Metropolitan\",\"Gardenvale\",1066500.0],[\"Northern Victoria\",\"Gisborne\",657500.0],[\"Northern Victoria\",\"Gisborne South\",1350000.0],[\"Western Metropolitan\",\"Gladstone Park\",667500.0],[\"Southern Metropolitan\",\"Glen Huntly\",710000.0],[\"Southern Metropolitan\",\"Glen Iris\",1760000.0],[\"Eastern Metropolitan\",\"Glen Waverley\",1296000.0],[\"Northern Metropolitan\",\"Glenroy\",680000.0],[\"Western Metropolitan\",\"Gowanbrae\",704500.0],[\"Northern Metropolitan\",\"Greensborough\",841000.0],[\"Northern Metropolitan\",\"Greenvale\",730000.0],[\"Northern Metropolitan\",\"Hadfield\",692750.0],[\"South-Eastern Metropolitan\",\"Hallam\",623000.0],[\"Southern Metropolitan\",\"Hampton\",1722500.0],[\"Southern Metropolitan\",\"Hampton East\",1150000.0],[\"South-Eastern Metropolitan\",\"Hampton Park\",512500.0],[\"Southern Metropolitan\",\"Hawthorn\",1165000.0],[\"Southern Metropolitan\",\"Hawthorn East\",1457500.0],[\"Northern Victoria\",\"Healesville\",650000.0],[\"Eastern Metropolitan\",\"Heathmont\",922000.0],[\"Eastern Metropolitan\",\"Heidelberg\",831500.0],[\"Eastern Metropolitan\",\"Heidelberg Heights\",692500.0],[\"Eastern Metropolitan\",\"Heidelberg West\",640000.0],[\"Southern Metropolitan\",\"Highett\",1280000.0],[\"Western Metropolitan\",\"Hillside\",666000.0],[\"Western Metropolitan\",\"Hoppers Crossing\",538250.0],[\"Southern Metropolitan\",\"Hughesdale\",1206750.0],[\"Southern Metropolitan\",\"Huntingdale\",1145000.0],[\"Northern Victoria\",\"Hurstbridge\",790000.0],[\"Eastern Metropolitan\",\"Ivanhoe\",1310000.0],[\"Eastern Metropolitan\",\"Ivanhoe East\",1797000.0],[\"Northern Metropolitan\",\"Jacana\",570000.0],[\"Western Metropolitan\",\"Kealba\",600000.0],[\"Western Metropolitan\",\"Keilor\",867500.0],[\"Western Metropolitan\",\"Keilor Downs\",700000.0],[\"Western Metropolitan\",\"Keilor East\",835000.0],[\"Western Metropolitan\",\"Keilor Lodge\",653000.0],[\"Western Metropolitan\",\"Keilor Park\",685000.0],[\"Northern Metropolitan\",\"Kensington\",825000.0],[\"Southern Metropolitan\",\"Kew\",1800000.0],[\"Southern Metropolitan\",\"Kew East\",1935000.0],[\"South-Eastern Metropolitan\",\"Keysborough\",771000.0],[\"Eastern Metropolitan\",\"Kilsyth\",780000.0],[\"Western Metropolitan\",\"Kings Park\",545000.0],[\"Northern Metropolitan\",\"Kingsbury\",608750.0],[\"Western Metropolitan\",\"Kingsville\",962500.0],[\"Eastern Metropolitan\",\"Knoxfield\",935000.0],[\"Southern Metropolitan\",\"Kooyong\",3080000.0],[\"Northern Victoria\",\"Kurunjang\",375000.0],[\"Northern Metropolitan\",\"Lalor\",623500.0],[\"Eastern Victoria\",\"Langwarrin\",600000.0],[\"Eastern Metropolitan\",\"Lower Plenty\",753750.0],[\"South-Eastern Metropolitan\",\"Lysterfield\",730000.0],[\"Western Metropolitan\",\"Maidstone\",681000.0],[\"Southern Metropolitan\",\"Malvern\",2050000.0],[\"Southern Metropolitan\",\"Malvern East\",1567500.0],[\"Western Metropolitan\",\"Maribyrnong\",874750.0],[\"Southern Metropolitan\",\"McKinnon\",1312000.0],[\"Northern Metropolitan\",\"Meadow Heights\",511000.0],[\"Northern Metropolitan\",\"Melbourne\",535000.0],[\"Western Victoria\",\"Melton\",410000.0],[\"Western Victoria\",\"Melton South\",416500.0],[\"Northern Victoria\",\"Melton West\",438000.0],[\"South-Eastern Metropolitan\",\"Mentone\",960500.0],[\"Northern Metropolitan\",\"Mernda\",610000.0],[\"Northern Metropolitan\",\"Mickleham\",982500.0],[\"Southern Metropolitan\",\"Middle Park\",2170000.0],[\"Northern Metropolitan\",\"Mill Park\",702000.0],[\"Eastern Metropolitan\",\"Mitcham\",997500.0],[\"Eastern Metropolitan\",\"Mont Albert\",1815000.0],[\"Eastern Metropolitan\",\"Montmorency\",850000.0],[\"Eastern Victoria\",\"Montrose\",735000.0],[\"Western Metropolitan\",\"Moonee Ponds\",1210000.0],[\"Southern Metropolitan\",\"Moorabbin\",1000000.0],[\"Eastern Victoria\",\"Mooroolbark\",696000.0],[\"South-Eastern Metropolitan\",\"Mordialloc\",1300000.0],[\"Eastern Victoria\",\"Mount Evelyn\",620000.0],[\"Eastern Metropolitan\",\"Mount Waverley\",1408000.0],[\"South-Eastern Metropolitan\",\"Mulgrave\",880000.0],[\"Southern Metropolitan\",\"Murrumbeena\",1090000.0],[\"South-Eastern Metropolitan\",\"Narre Warren\",628500.0],[\"Western Metropolitan\",\"Newport\",962000.0],[\"Western Metropolitan\",\"Niddrie\",1065000.0],[\"South-Eastern Metropolitan\",\"Noble Park\",685500.0],[\"Northern Metropolitan\",\"North Melbourne\",720000.0],[\"Eastern Metropolitan\",\"North Warrandyte\",902000.0],[\"Northern Metropolitan\",\"Northcote\",1270500.0],[\"Southern Metropolitan\",\"Notting Hill\",1100000.0],[\"Eastern Metropolitan\",\"Nunawading\",1002000.0],[\"Northern Metropolitan\",\"Oak Park\",770000.0],[\"Southern Metropolitan\",\"Oakleigh\",1170000.0],[\"Southern Metropolitan\",\"Oakleigh East\",954500.0],[\"South-Eastern Metropolitan\",\"Oakleigh South\",993000.0],[\"Eastern Victoria\",\"Officer\",563000.0],[\"Southern Metropolitan\",\"Ormond\",1103000.0],[\"Eastern Victoria\",\"Pakenham\",493000.0],[\"South-Eastern Metropolitan\",\"Parkdale\",1285000.0],[\"Northern Metropolitan\",\"Parkville\",1805000.0],[\"Northern Metropolitan\",\"Pascoe Vale\",750000.0],[\"South-Eastern Metropolitan\",\"Patterson Lakes\",975000.0],[\"Western Metropolitan\",\"Plumpton\",625500.0],[\"Western Metropolitan\",\"Point Cook\",666500.0],[\"Southern Metropolitan\",\"Port Melbourne\",1200000.0],[\"Southern Metropolitan\",\"Prahran\",1077500.0],[\"Northern Metropolitan\",\"Preston\",905000.0],[\"Northern Metropolitan\",\"Princes Hill\",1900000.0],[\"Eastern Metropolitan\",\"Research\",930000.0],[\"Northern Metropolitan\",\"Reservoir\",650000.0],[\"Northern Metropolitan\",\"Richmond\",1074000.0],[\"Northern Victoria\",\"Riddells Creek\",817000.0],[\"Eastern Metropolitan\",\"Ringwood\",932500.0],[\"Eastern Metropolitan\",\"Ringwood East\",906000.0],[\"Eastern Metropolitan\",\"Ringwood North\",848500.0],[\"Southern Metropolitan\",\"Ripponlea\",656750.0],[\"Eastern Metropolitan\",\"Rosanna\",930000.0],[\"South-Eastern Metropolitan\",\"Rowville\",885000.0],[\"Northern Metropolitan\",\"Roxburgh Park\",570000.0],[\"South-Eastern Metropolitan\",\"Sandhurst\",642500.0],[\"Southern Metropolitan\",\"Sandringham\",1715000.0],[\"Eastern Metropolitan\",\"Scoresby\",1001000.0],[\"Western Metropolitan\",\"Seabrook\",570000.0],[\"South-Eastern Metropolitan\",\"Seaford\",790000.0],[\"Western Metropolitan\",\"Seaholme\",1387500.0],[\"Western Metropolitan\",\"Seddon\",970000.0],[\"South-Eastern Metropolitan\",\"Skye\",537849.0],[\"Western Metropolitan\",\"South Kingsville\",690000.0],[\"Southern Metropolitan\",\"South Melbourne\",1372500.0],[\"Northern Metropolitan\",\"South Morang\",650000.0],[\"Southern Metropolitan\",\"South Yarra\",833000.0],[\"Southern Metropolitan\",\"Southbank\",600000.0],[\"Western Metropolitan\",\"Spotswood\",883250.0],[\"South-Eastern Metropolitan\",\"Springvale\",880000.0],[\"South-Eastern Metropolitan\",\"Springvale South\",700000.0],[\"Western Metropolitan\",\"St Albans\",610000.0],[\"Eastern Metropolitan\",\"St Helena\",897000.0],[\"Southern Metropolitan\",\"St Kilda\",577500.0],[\"Western Metropolitan\",\"Strathmore\",1310000.0],[\"Western Metropolitan\",\"Strathmore Heights\",965999.5],[\"Western Metropolitan\",\"Sunbury\",516500.0],[\"Western Metropolitan\",\"Sunshine\",737500.0],[\"Western Metropolitan\",\"Sunshine North\",657500.0],[\"Western Metropolitan\",\"Sunshine West\",588000.0],[\"Southern Metropolitan\",\"Surrey Hills\",1850000.0],[\"Western Metropolitan\",\"Sydenham\",634000.0],[\"Western Metropolitan\",\"Tarneit\",516000.0],[\"Western Metropolitan\",\"Taylors Hill\",677500.0],[\"Western Metropolitan\",\"Taylors Lakes\",751000.0],[\"Eastern Metropolitan\",\"Templestowe\",1501333.0],[\"Eastern Metropolitan\",\"Templestowe Lower\",1211000.0],[\"Eastern Metropolitan\",\"The Basin\",477000.0],[\"Northern Metropolitan\",\"Thomastown\",654000.0],[\"Northern Metropolitan\",\"Thornbury\",1092500.0],[\"Southern Metropolitan\",\"Toorak\",1350000.0],[\"Western Metropolitan\",\"Travancore\",972000.0],[\"Western Metropolitan\",\"Truganina\",588500.0],[\"Western Metropolitan\",\"Tullamarine\",695000.0],[\"Eastern Victoria\",\"Upwey\",1075000.0],[\"Eastern Metropolitan\",\"Vermont\",1122250.0],[\"Eastern Metropolitan\",\"Vermont South\",1202000.0],[\"Eastern Metropolitan\",\"Viewbank\",930000.0],[\"Northern Victoria\",\"Wallan\",420500.0],[\"Eastern Metropolitan\",\"Wantirna\",975000.0],[\"Eastern Metropolitan\",\"Wantirna South\",1180000.0],[\"Eastern Metropolitan\",\"Warrandyte\",1196500.0],[\"South-Eastern Metropolitan\",\"Waterways\",1232000.0],[\"Northern Metropolitan\",\"Watsonia\",702000.0],[\"Northern Metropolitan\",\"Watsonia North\",710000.0],[\"Northern Victoria\",\"Wattle Glen\",835000.0],[\"Western Metropolitan\",\"Werribee\",507500.0],[\"Western Metropolitan\",\"West Footscray\",850000.0],[\"Northern Metropolitan\",\"West Melbourne\",800000.0],[\"Northern Metropolitan\",\"Westmeadows\",635000.0],[\"South-Eastern Metropolitan\",\"Wheelers Hill\",1170500.0],[\"Northern Victoria\",\"Whittlesea\",601000.0],[\"Western Metropolitan\",\"Williams Landing\",700000.0],[\"Western Metropolitan\",\"Williamstown\",1320000.0],[\"Western Metropolitan\",\"Williamstown North\",953500.0],[\"Southern Metropolitan\",\"Windsor\",815000.0],[\"Northern Metropolitan\",\"Wollert\",615000.0],[\"Western Metropolitan\",\"Wyndham Vale\",488000.0],[\"Northern Metropolitan\",\"Yallambie\",817500.0],[\"Northern Victoria\",\"Yarra Glen\",620000.0],[\"Western Metropolitan\",\"Yarraville\",982500.0]],\"hovertemplate\":\"<b>%{hovertext}</b><br><br>Price=%{marker.color}<br>Lattitude=%{lat}<br>Longtitude=%{lon}<br>Regionname=%{customdata[0]}<br>Suburb=%{customdata[1]}<extra></extra>\",\"hovertext\":[\"Abbotsford\",\"Aberfeldie\",\"Airport West\",\"Albanvale\",\"Albert Park\",\"Albion\",\"Alphington\",\"Altona\",\"Altona Meadows\",\"Altona North\",\"Ardeer\",\"Armadale\",\"Ascot Vale\",\"Ashburton\",\"Ashwood\",\"Aspendale\",\"Aspendale Gardens\",\"Attwood\",\"Avondale Heights\",\"Bacchus Marsh\",\"Balaclava\",\"Balwyn\",\"Balwyn North\",\"Bayswater\",\"Bayswater North\",\"Beaconsfield\",\"Beaconsfield Upper\",\"Beaumaris\",\"Bellfield\",\"Bentleigh\",\"Bentleigh East\",\"Berwick\",\"Black Rock\",\"Blackburn\",\"Blackburn North\",\"Blackburn South\",\"Bonbeach\",\"Boronia\",\"Botanic Ridge\",\"Box Hill\",\"Braybrook\",\"Briar Hill\",\"Brighton\",\"Brighton East\",\"Broadmeadows\",\"Brookfield\",\"Brooklyn\",\"Brunswick\",\"Brunswick East\",\"Brunswick West\",\"Bulleen\",\"Bullengarook\",\"Bundoora\",\"Burnley\",\"Burnside\",\"Burnside Heights\",\"Burwood\",\"Burwood East\",\"Cairnlea\",\"Camberwell\",\"Campbellfield\",\"Canterbury\",\"Carlton\",\"Carlton North\",\"Carnegie\",\"Caroline Springs\",\"Carrum\",\"Carrum Downs\",\"Caulfield\",\"Caulfield East\",\"Caulfield North\",\"Caulfield South\",\"Chadstone\",\"Chelsea\",\"Chelsea Heights\",\"Cheltenham\",\"Chirnside Park\",\"Clarinda\",\"Clayton\",\"Clayton South\",\"Clifton Hill\",\"Coburg\",\"Coburg North\",\"Collingwood\",\"Coolaroo\",\"Craigieburn\",\"Cranbourne\",\"Cranbourne North\",\"Cremorne\",\"Croydon\",\"Croydon Hills\",\"Croydon North\",\"Croydon South\",\"Dallas\",\"Dandenong\",\"Dandenong North\",\"Deepdene\",\"Deer Park\",\"Delahey\",\"Derrimut\",\"Diamond Creek\",\"Diggers Rest\",\"Dingley Village\",\"Doncaster\",\"Doncaster East\",\"Donvale\",\"Doreen\",\"Doveton\",\"Eaglemont\",\"East Melbourne\",\"Edithvale\",\"Elsternwick\",\"Eltham\",\"Eltham North\",\"Elwood\",\"Emerald\",\"Endeavour Hills\",\"Epping\",\"Essendon\",\"Essendon North\",\"Essendon West\",\"Fairfield\",\"Fawkner\",\"Ferntree Gully\",\"Fitzroy\",\"Fitzroy North\",\"Flemington\",\"Footscray\",\"Forest Hill\",\"Frankston\",\"Frankston North\",\"Frankston South\",\"Gardenvale\",\"Gisborne\",\"Gisborne South\",\"Gladstone Park\",\"Glen Huntly\",\"Glen Iris\",\"Glen Waverley\",\"Glenroy\",\"Gowanbrae\",\"Greensborough\",\"Greenvale\",\"Hadfield\",\"Hallam\",\"Hampton\",\"Hampton East\",\"Hampton Park\",\"Hawthorn\",\"Hawthorn East\",\"Healesville\",\"Heathmont\",\"Heidelberg\",\"Heidelberg Heights\",\"Heidelberg West\",\"Highett\",\"Hillside\",\"Hoppers Crossing\",\"Hughesdale\",\"Huntingdale\",\"Hurstbridge\",\"Ivanhoe\",\"Ivanhoe East\",\"Jacana\",\"Kealba\",\"Keilor\",\"Keilor Downs\",\"Keilor East\",\"Keilor Lodge\",\"Keilor Park\",\"Kensington\",\"Kew\",\"Kew East\",\"Keysborough\",\"Kilsyth\",\"Kings Park\",\"Kingsbury\",\"Kingsville\",\"Knoxfield\",\"Kooyong\",\"Kurunjang\",\"Lalor\",\"Langwarrin\",\"Lower Plenty\",\"Lysterfield\",\"Maidstone\",\"Malvern\",\"Malvern East\",\"Maribyrnong\",\"McKinnon\",\"Meadow Heights\",\"Melbourne\",\"Melton\",\"Melton South\",\"Melton West\",\"Mentone\",\"Mernda\",\"Mickleham\",\"Middle Park\",\"Mill Park\",\"Mitcham\",\"Mont Albert\",\"Montmorency\",\"Montrose\",\"Moonee Ponds\",\"Moorabbin\",\"Mooroolbark\",\"Mordialloc\",\"Mount Evelyn\",\"Mount Waverley\",\"Mulgrave\",\"Murrumbeena\",\"Narre Warren\",\"Newport\",\"Niddrie\",\"Noble Park\",\"North Melbourne\",\"North Warrandyte\",\"Northcote\",\"Notting Hill\",\"Nunawading\",\"Oak Park\",\"Oakleigh\",\"Oakleigh East\",\"Oakleigh South\",\"Officer\",\"Ormond\",\"Pakenham\",\"Parkdale\",\"Parkville\",\"Pascoe Vale\",\"Patterson Lakes\",\"Plumpton\",\"Point Cook\",\"Port Melbourne\",\"Prahran\",\"Preston\",\"Princes Hill\",\"Research\",\"Reservoir\",\"Richmond\",\"Riddells Creek\",\"Ringwood\",\"Ringwood East\",\"Ringwood North\",\"Ripponlea\",\"Rosanna\",\"Rowville\",\"Roxburgh Park\",\"Sandhurst\",\"Sandringham\",\"Scoresby\",\"Seabrook\",\"Seaford\",\"Seaholme\",\"Seddon\",\"Skye\",\"South Kingsville\",\"South Melbourne\",\"South Morang\",\"South Yarra\",\"Southbank\",\"Spotswood\",\"Springvale\",\"Springvale South\",\"St Albans\",\"St Helena\",\"St Kilda\",\"Strathmore\",\"Strathmore Heights\",\"Sunbury\",\"Sunshine\",\"Sunshine North\",\"Sunshine West\",\"Surrey Hills\",\"Sydenham\",\"Tarneit\",\"Taylors Hill\",\"Taylors Lakes\",\"Templestowe\",\"Templestowe Lower\",\"The Basin\",\"Thomastown\",\"Thornbury\",\"Toorak\",\"Travancore\",\"Truganina\",\"Tullamarine\",\"Upwey\",\"Vermont\",\"Vermont South\",\"Viewbank\",\"Wallan\",\"Wantirna\",\"Wantirna South\",\"Warrandyte\",\"Waterways\",\"Watsonia\",\"Watsonia North\",\"Wattle Glen\",\"Werribee\",\"West Footscray\",\"West Melbourne\",\"Westmeadows\",\"Wheelers Hill\",\"Whittlesea\",\"Williams Landing\",\"Williamstown\",\"Williamstown North\",\"Windsor\",\"Wollert\",\"Wyndham Vale\",\"Yallambie\",\"Yarra Glen\",\"Yarraville\"],\"lat\":[-37.80359,-37.7595,-37.723535,-37.744,-37.844695,-37.7798,-37.7763,-37.868235,-37.878575,-37.83511,-37.777969999999996,-37.8564,-37.7762,-37.869550000000004,-37.864805,-38.02357,-38.021834999999996,-37.671035,-37.76063,-37.66869000000001,-37.872150000000005,-37.8094,-37.793585,-37.84823,-37.825845,-38.05614,-38.00224,-37.98124,-37.7524,-37.9259,-37.919650000000004,-38.052625,-37.97359,-37.82665,-37.80543,-37.83831,-38.06503,-37.861259999999994,-38.1452,-37.82455,-37.7854,-37.7063,-37.9093,-37.91773500000001,-37.68489,-37.694535,-37.82212,-37.76445,-37.77315,-37.7624,-37.7697,-37.47154000000001,-37.696945,-37.8288,-37.7483,-37.733155,-37.851315,-37.852605000000004,-37.761185,-37.841590000000004,-37.670445,-37.8264,-37.79806,-37.7831,-37.8944,-37.731505,-38.07916,-38.10346,-37.886449999999996,-37.885279999999995,-37.86805,-37.89524,-37.88093,-38.046659999999996,-38.04415,-37.96395,-37.752134999999996,-37.937645,-37.91955,-37.93869,-37.7918,-37.745870000000004,-37.729600000000005,-37.79831,-37.660635,-37.58633999999999,-38.106905,-38.07202,-37.828025,-37.793445000000006,-37.77936,-37.767115,-37.8163,-37.667809999999996,-37.987264999999994,-37.95058,-37.812305,-37.77382,-37.7145,-37.78774,-37.67662,-37.624959999999994,-37.98145,-37.782779999999995,-37.78643,-37.79684,-37.605869999999996,-37.994965,-37.762150000000005,-37.8136,-38.0371,-37.8857,-37.709295,-37.696315,-37.880140000000004,-37.938445,-37.977759999999996,-37.64162,-37.7504,-37.73765,-37.75204,-37.77335,-37.707300000000004,-37.885315,-37.7974,-37.78355,-37.7839,-37.79583,-37.83945,-38.147335,-38.12023,-38.162949999999995,-37.898455,-37.49246,-37.543,-37.688,-37.8904,-37.8547,-37.884025,-37.70175,-37.70493,-37.700784999999996,-37.64221,-37.71025,-38.001225000000005,-37.93875,-37.941629999999996,-38.037755,-37.819355,-37.829615000000004,-37.64685,-37.830265,-37.750550000000004,-37.742450000000005,-37.73837,-37.94882,-37.68974,-37.86991999999999,-37.899249999999995,-37.90822,-37.638259999999995,-37.76515,-37.77212,-37.6878,-37.7358,-37.713989999999995,-37.719879999999996,-37.7435,-37.69924,-37.72355,-37.7926,-37.804500000000004,-37.793054999999995,-37.98916,-37.80065,-37.73165,-37.71295,-37.8083,-37.87695,-37.84391,-37.6666,-37.66983999999999,-38.150985000000006,-37.72774,-37.91857,-37.78502,-37.8613,-37.87665,-37.773685,-37.90898,-37.651615,-37.81301,-37.68707,-37.70481,-37.6738,-37.9797,-37.59665,-37.542925000000004,-37.851420000000005,-37.6682,-37.815435,-37.8161,-37.721959999999996,-37.810179999999995,-37.7672,-37.93945,-37.78156,-38.001999999999995,-37.78495,-37.88007,-37.928290000000004,-37.89561,-38.00708,-37.8437,-37.740159999999996,-37.9678,-37.8,-37.72582,-37.771705,-37.90521,-37.81113,-37.71679,-37.902105,-37.902045,-37.92295,-38.07273,-37.9035,-38.07652,-37.994730000000004,-37.7931,-37.7237,-38.06049,-37.71429000000001,-37.900995,-37.8382,-37.851665,-37.74032,-37.782509999999995,-37.70199,-37.71141,-37.8198,-37.45709,-37.816375,-37.811475,-37.798045,-37.87886,-37.738905,-37.924139999999994,-37.6295,-38.08069,-37.952105,-37.891145,-37.87793,-38.10309,-37.8641,-37.8066,-38.09206999999999,-37.831435,-37.8356,-37.63552,-37.8404,-37.8267,-37.82867,-37.94282000000001,-37.980309999999996,-37.7398,-37.68508,-37.864395,-37.73471,-37.713570000000004,-37.579609999999995,-37.78805,-37.768865000000005,-37.791290000000004,-37.82671,-37.702935,-37.847429999999996,-37.71283000000001,-37.694959999999995,-37.761179999999996,-37.76562,-37.85971,-37.68123,-37.75815,-37.8424,-37.7813,-37.8428,-37.6971,-37.9075,-37.83636,-37.85785,-37.737314999999995,-37.413455,-37.854659999999996,-37.87615,-37.7488,-38.01345,-37.7115,-37.69878,-37.66773,-37.89353,-37.79613,-37.8076,-37.67841,-37.90851000000001,-37.51232,-37.85641,-37.86109999999999,-37.856165000000004,-37.855805000000004,-37.61722,-37.890005,-37.729079999999996,-37.653909999999996,-37.81612],\"legendgroup\":\"\",\"lon\":[144.9961,144.89799,144.87919499999998,144.7672,144.95195,144.8175,145.0307,144.81875,144.779225,144.84905,144.79975,145.0182,144.91428,145.07760000000002,145.10264,145.10187,145.12325999999996,144.888655,144.85979,144.42379,144.9955,145.0826,145.0888,145.25798999999995,145.291225,145.38464,145.41081,145.03839,145.0367,145.041,145.06925,145.33926499999998,145.01883999999995,145.15735,145.15668,145.14455,145.12454000000002,145.2864,145.2512,145.1274,144.8523,145.11928999999995,144.9991,145.01728500000002,144.92685,144.549825,144.8447,144.96368,144.9753,144.94242500000001,145.0918,144.53828000000001,145.05710499999998,145.0089,144.74609,144.75526,145.10903000000002,145.15031999999997,144.78681999999998,145.0743,144.954285,145.0741,144.9697,144.9721,145.0561,144.734545,145.130775,145.18248,145.0272,145.04548,145.022165,145.02200000000005,145.102,145.12354,145.13306000000003,145.06741499999998,145.31122,145.107655,145.128575,145.11986000000005,144.9984,144.9611,144.97063500000002,144.9883,144.93095499999998,144.91728500000005,145.28875,145.27369,144.99170000000004,145.28751,145.26256,145.288975,145.2785,144.93747,145.20871,145.209945,145.064,144.76458,144.77043,144.75637,145.157445,144.71243,145.12811000000005,145.12733,145.1571,145.181,145.12287,145.235565,145.05925000000002,144.98494,145.11717,145.00804999999997,145.15485,145.14497,144.9873,145.44306,145.26047,145.03721000000004,144.91061000000005,144.9022,144.8859,145.01794999999998,144.9679,145.27593000000002,144.9787,144.9823,144.92902500000002,144.89076,145.16923,145.146975,145.14973,145.11812500000002,145.00995,144.598085,144.5969,144.89084,145.04038,145.0656,145.159105,144.92541,144.8976,145.10114000000004,144.89113,144.94684999999998,145.26506999999998,145.00965,145.0322,145.26110500000004,145.0308,145.05078,145.52635,145.24357,145.069415,145.05229,145.0398,145.03099,144.74584,144.68630000000002,145.08119000000002,145.10851,145.1991,145.04065,145.0605,144.91105,144.8246,144.82683,144.80882,144.86747,144.79452,144.85805,144.9274,145.037365,145.05270000000002,145.16158000000001,145.30733999999995,144.77624,145.034,144.8809,145.25241,145.03376,144.59643,145.022655,145.18784,145.12027999999998,145.27292,144.8729,145.0353,145.055415,144.8886,145.03393,144.91959,144.9623,144.57903,144.573125,144.55784,145.06937,145.08809,144.89911,144.96265,145.0618,145.19783,145.1098,145.12511,145.35396,144.91783,145.0474,145.32513,145.09425,145.39115,145.128,145.17123,145.0709,145.301615,144.87738000000004,144.88613500000002,145.181305,144.9475,145.20868000000004,144.999545,145.14866,145.17885,144.9165,145.09735,145.116075,145.08592,145.43373,145.04273999999995,145.47262,145.08407,144.9565,144.9402,145.14094,144.72492,144.74063500000003,144.94021,145.00261999999998,145.00635,144.9681,145.18138000000005,145.00957499999998,145.0029,144.68999,145.23189000000002,145.25296500000002,145.226815,144.99689999999998,145.07165,145.24751,144.92774,145.20675,145.01767999999998,145.22156999999999,144.75626,145.13397,144.84313500000002,144.8896,145.20181000000002,144.8703,144.96055,145.08584,144.99085000000002,144.96669500000002,144.8841,145.15888,145.15497,144.8027,145.1395,144.9805,144.91705000000002,144.89674,144.7117,144.838215,144.833825,144.80925,145.0969,144.758065,144.66697,144.75137999999998,144.78505,145.14123,145.11183,145.31036,145.00750499999998,145.00317,145.0125,144.9371,144.71958999999998,144.88002,145.3198,145.20086999999998,145.18223,145.08921999999995,144.97977500000002,145.23162,145.22973000000005,145.19813,145.1342,145.0825,145.08856,145.1824,144.660425,144.8703,144.9456,144.88468,145.185315,145.13282,144.739855,144.89279499999998,144.88312,144.99759,145.0238,144.62131000000002,145.087675,145.37389,144.8875],\"marker\":{\"color\":[1176500.0,1350000.0,771500.0,555000.0,1825000.0,600000.0,1646250.0,747500.0,675250.0,791000.0,638500.0,1435000.0,1050000.0,1667500.0,1200000.0,970000.0,839375.0,830000.0,790000.0,412000.0,570000.0,2100000.0,1837500.0,822000.0,743000.0,670000.0,675000.0,1850000.0,795000.0,1320000.0,1127500.0,735000.0,1080000.0,1350000.0,1140000.0,1229000.0,1040500.0,770000.0,750000.0,1480700.0,645000.0,825000.0,1995000.0,1652500.0,570500.0,497000.0,515000.0,1036250.0,1012500.0,822500.0,1100000.0,865000.0,770000.0,1333005.0,642500.0,584000.0,1310000.0,1091000.0,687000.0,1987000.0,658000.0,2375000.0,910000.0,1650000.0,850000.0,623000.0,668750.0,546000.0,600000.0,1472000.0,595000.0,1350000.0,930000.0,840000.0,728500.0,1020000.0,838491.0,936650.0,1022000.0,950000.0,1209000.0,903000.0,800500.0,905000.0,477500.0,561250.0,815254.0,500000.0,1130000.0,859000.0,905000.0,827500.0,952000.0,506000.0,657000.0,666900.0,2380000.0,589000.0,600000.0,695000.0,782500.0,550000.0,900000.0,1350000.0,1330000.0,1070000.0,553500.0,508750.0,1700000.0,1300000.0,875000.0,1320000.0,957500.0,912500.0,715000.0,558500.0,676000.0,616000.0,1150000.0,757500.0,1207500.0,1252500.0,643500.0,845000.0,1100000.0,1325000.0,946500.0,760000.0,1088000.0,648944.0,500000.0,887500.0,1066500.0,657500.0,1350000.0,667500.0,710000.0,1760000.0,1296000.0,680000.0,704500.0,841000.0,730000.0,692750.0,623000.0,1722500.0,1150000.0,512500.0,1165000.0,1457500.0,650000.0,922000.0,831500.0,692500.0,640000.0,1280000.0,666000.0,538250.0,1206750.0,1145000.0,790000.0,1310000.0,1797000.0,570000.0,600000.0,867500.0,700000.0,835000.0,653000.0,685000.0,825000.0,1800000.0,1935000.0,771000.0,780000.0,545000.0,608750.0,962500.0,935000.0,3080000.0,375000.0,623500.0,600000.0,753750.0,730000.0,681000.0,2050000.0,1567500.0,874750.0,1312000.0,511000.0,535000.0,410000.0,416500.0,438000.0,960500.0,610000.0,982500.0,2170000.0,702000.0,997500.0,1815000.0,850000.0,735000.0,1210000.0,1000000.0,696000.0,1300000.0,620000.0,1408000.0,880000.0,1090000.0,628500.0,962000.0,1065000.0,685500.0,720000.0,902000.0,1270500.0,1100000.0,1002000.0,770000.0,1170000.0,954500.0,993000.0,563000.0,1103000.0,493000.0,1285000.0,1805000.0,750000.0,975000.0,625500.0,666500.0,1200000.0,1077500.0,905000.0,1900000.0,930000.0,650000.0,1074000.0,817000.0,932500.0,906000.0,848500.0,656750.0,930000.0,885000.0,570000.0,642500.0,1715000.0,1001000.0,570000.0,790000.0,1387500.0,970000.0,537849.0,690000.0,1372500.0,650000.0,833000.0,600000.0,883250.0,880000.0,700000.0,610000.0,897000.0,577500.0,1310000.0,965999.5,516500.0,737500.0,657500.0,588000.0,1850000.0,634000.0,516000.0,677500.0,751000.0,1501333.0,1211000.0,477000.0,654000.0,1092500.0,1350000.0,972000.0,588500.0,695000.0,1075000.0,1122250.0,1202000.0,930000.0,420500.0,975000.0,1180000.0,1196500.0,1232000.0,702000.0,710000.0,835000.0,507500.0,850000.0,800000.0,635000.0,1170500.0,601000.0,700000.0,1320000.0,953500.0,815000.0,615000.0,488000.0,817500.0,620000.0,982500.0],\"coloraxis\":\"coloraxis\",\"size\":[1176500.0,1350000.0,771500.0,555000.0,1825000.0,600000.0,1646250.0,747500.0,675250.0,791000.0,638500.0,1435000.0,1050000.0,1667500.0,1200000.0,970000.0,839375.0,830000.0,790000.0,412000.0,570000.0,2100000.0,1837500.0,822000.0,743000.0,670000.0,675000.0,1850000.0,795000.0,1320000.0,1127500.0,735000.0,1080000.0,1350000.0,1140000.0,1229000.0,1040500.0,770000.0,750000.0,1480700.0,645000.0,825000.0,1995000.0,1652500.0,570500.0,497000.0,515000.0,1036250.0,1012500.0,822500.0,1100000.0,865000.0,770000.0,1333005.0,642500.0,584000.0,1310000.0,1091000.0,687000.0,1987000.0,658000.0,2375000.0,910000.0,1650000.0,850000.0,623000.0,668750.0,546000.0,600000.0,1472000.0,595000.0,1350000.0,930000.0,840000.0,728500.0,1020000.0,838491.0,936650.0,1022000.0,950000.0,1209000.0,903000.0,800500.0,905000.0,477500.0,561250.0,815254.0,500000.0,1130000.0,859000.0,905000.0,827500.0,952000.0,506000.0,657000.0,666900.0,2380000.0,589000.0,600000.0,695000.0,782500.0,550000.0,900000.0,1350000.0,1330000.0,1070000.0,553500.0,508750.0,1700000.0,1300000.0,875000.0,1320000.0,957500.0,912500.0,715000.0,558500.0,676000.0,616000.0,1150000.0,757500.0,1207500.0,1252500.0,643500.0,845000.0,1100000.0,1325000.0,946500.0,760000.0,1088000.0,648944.0,500000.0,887500.0,1066500.0,657500.0,1350000.0,667500.0,710000.0,1760000.0,1296000.0,680000.0,704500.0,841000.0,730000.0,692750.0,623000.0,1722500.0,1150000.0,512500.0,1165000.0,1457500.0,650000.0,922000.0,831500.0,692500.0,640000.0,1280000.0,666000.0,538250.0,1206750.0,1145000.0,790000.0,1310000.0,1797000.0,570000.0,600000.0,867500.0,700000.0,835000.0,653000.0,685000.0,825000.0,1800000.0,1935000.0,771000.0,780000.0,545000.0,608750.0,962500.0,935000.0,3080000.0,375000.0,623500.0,600000.0,753750.0,730000.0,681000.0,2050000.0,1567500.0,874750.0,1312000.0,511000.0,535000.0,410000.0,416500.0,438000.0,960500.0,610000.0,982500.0,2170000.0,702000.0,997500.0,1815000.0,850000.0,735000.0,1210000.0,1000000.0,696000.0,1300000.0,620000.0,1408000.0,880000.0,1090000.0,628500.0,962000.0,1065000.0,685500.0,720000.0,902000.0,1270500.0,1100000.0,1002000.0,770000.0,1170000.0,954500.0,993000.0,563000.0,1103000.0,493000.0,1285000.0,1805000.0,750000.0,975000.0,625500.0,666500.0,1200000.0,1077500.0,905000.0,1900000.0,930000.0,650000.0,1074000.0,817000.0,932500.0,906000.0,848500.0,656750.0,930000.0,885000.0,570000.0,642500.0,1715000.0,1001000.0,570000.0,790000.0,1387500.0,970000.0,537849.0,690000.0,1372500.0,650000.0,833000.0,600000.0,883250.0,880000.0,700000.0,610000.0,897000.0,577500.0,1310000.0,965999.5,516500.0,737500.0,657500.0,588000.0,1850000.0,634000.0,516000.0,677500.0,751000.0,1501333.0,1211000.0,477000.0,654000.0,1092500.0,1350000.0,972000.0,588500.0,695000.0,1075000.0,1122250.0,1202000.0,930000.0,420500.0,975000.0,1180000.0,1196500.0,1232000.0,702000.0,710000.0,835000.0,507500.0,850000.0,800000.0,635000.0,1170500.0,601000.0,700000.0,1320000.0,953500.0,815000.0,615000.0,488000.0,817500.0,620000.0,982500.0],\"sizemode\":\"area\",\"sizeref\":7700.0},\"mode\":\"markers\",\"name\":\"\",\"showlegend\":false,\"subplot\":\"mapbox\",\"type\":\"scattermapbox\"}],                        {\"template\":{\"data\":{\"barpolar\":[{\"marker\":{\"line\":{\"color\":\"rgb(17,17,17)\",\"width\":0.5},\"pattern\":{\"fillmode\":\"overlay\",\"size\":10,\"solidity\":0.2}},\"type\":\"barpolar\"}],\"bar\":[{\"error_x\":{\"color\":\"#f2f5fa\"},\"error_y\":{\"color\":\"#f2f5fa\"},\"marker\":{\"line\":{\"color\":\"rgb(17,17,17)\",\"width\":0.5},\"pattern\":{\"fillmode\":\"overlay\",\"size\":10,\"solidity\":0.2}},\"type\":\"bar\"}],\"carpet\":[{\"aaxis\":{\"endlinecolor\":\"#A2B1C6\",\"gridcolor\":\"#506784\",\"linecolor\":\"#506784\",\"minorgridcolor\":\"#506784\",\"startlinecolor\":\"#A2B1C6\"},\"baxis\":{\"endlinecolor\":\"#A2B1C6\",\"gridcolor\":\"#506784\",\"linecolor\":\"#506784\",\"minorgridcolor\":\"#506784\",\"startlinecolor\":\"#A2B1C6\"},\"type\":\"carpet\"}],\"choropleth\":[{\"colorbar\":{\"outlinewidth\":0,\"ticks\":\"\"},\"type\":\"choropleth\"}],\"contourcarpet\":[{\"colorbar\":{\"outlinewidth\":0,\"ticks\":\"\"},\"type\":\"contourcarpet\"}],\"contour\":[{\"colorbar\":{\"outlinewidth\":0,\"ticks\":\"\"},\"colorscale\":[[0.0,\"#0d0887\"],[0.1111111111111111,\"#46039f\"],[0.2222222222222222,\"#7201a8\"],[0.3333333333333333,\"#9c179e\"],[0.4444444444444444,\"#bd3786\"],[0.5555555555555556,\"#d8576b\"],[0.6666666666666666,\"#ed7953\"],[0.7777777777777778,\"#fb9f3a\"],[0.8888888888888888,\"#fdca26\"],[1.0,\"#f0f921\"]],\"type\":\"contour\"}],\"heatmapgl\":[{\"colorbar\":{\"outlinewidth\":0,\"ticks\":\"\"},\"colorscale\":[[0.0,\"#0d0887\"],[0.1111111111111111,\"#46039f\"],[0.2222222222222222,\"#7201a8\"],[0.3333333333333333,\"#9c179e\"],[0.4444444444444444,\"#bd3786\"],[0.5555555555555556,\"#d8576b\"],[0.6666666666666666,\"#ed7953\"],[0.7777777777777778,\"#fb9f3a\"],[0.8888888888888888,\"#fdca26\"],[1.0,\"#f0f921\"]],\"type\":\"heatmapgl\"}],\"heatmap\":[{\"colorbar\":{\"outlinewidth\":0,\"ticks\":\"\"},\"colorscale\":[[0.0,\"#0d0887\"],[0.1111111111111111,\"#46039f\"],[0.2222222222222222,\"#7201a8\"],[0.3333333333333333,\"#9c179e\"],[0.4444444444444444,\"#bd3786\"],[0.5555555555555556,\"#d8576b\"],[0.6666666666666666,\"#ed7953\"],[0.7777777777777778,\"#fb9f3a\"],[0.8888888888888888,\"#fdca26\"],[1.0,\"#f0f921\"]],\"type\":\"heatmap\"}],\"histogram2dcontour\":[{\"colorbar\":{\"outlinewidth\":0,\"ticks\":\"\"},\"colorscale\":[[0.0,\"#0d0887\"],[0.1111111111111111,\"#46039f\"],[0.2222222222222222,\"#7201a8\"],[0.3333333333333333,\"#9c179e\"],[0.4444444444444444,\"#bd3786\"],[0.5555555555555556,\"#d8576b\"],[0.6666666666666666,\"#ed7953\"],[0.7777777777777778,\"#fb9f3a\"],[0.8888888888888888,\"#fdca26\"],[1.0,\"#f0f921\"]],\"type\":\"histogram2dcontour\"}],\"histogram2d\":[{\"colorbar\":{\"outlinewidth\":0,\"ticks\":\"\"},\"colorscale\":[[0.0,\"#0d0887\"],[0.1111111111111111,\"#46039f\"],[0.2222222222222222,\"#7201a8\"],[0.3333333333333333,\"#9c179e\"],[0.4444444444444444,\"#bd3786\"],[0.5555555555555556,\"#d8576b\"],[0.6666666666666666,\"#ed7953\"],[0.7777777777777778,\"#fb9f3a\"],[0.8888888888888888,\"#fdca26\"],[1.0,\"#f0f921\"]],\"type\":\"histogram2d\"}],\"histogram\":[{\"marker\":{\"pattern\":{\"fillmode\":\"overlay\",\"size\":10,\"solidity\":0.2}},\"type\":\"histogram\"}],\"mesh3d\":[{\"colorbar\":{\"outlinewidth\":0,\"ticks\":\"\"},\"type\":\"mesh3d\"}],\"parcoords\":[{\"line\":{\"colorbar\":{\"outlinewidth\":0,\"ticks\":\"\"}},\"type\":\"parcoords\"}],\"pie\":[{\"automargin\":true,\"type\":\"pie\"}],\"scatter3d\":[{\"line\":{\"colorbar\":{\"outlinewidth\":0,\"ticks\":\"\"}},\"marker\":{\"colorbar\":{\"outlinewidth\":0,\"ticks\":\"\"}},\"type\":\"scatter3d\"}],\"scattercarpet\":[{\"marker\":{\"colorbar\":{\"outlinewidth\":0,\"ticks\":\"\"}},\"type\":\"scattercarpet\"}],\"scattergeo\":[{\"marker\":{\"colorbar\":{\"outlinewidth\":0,\"ticks\":\"\"}},\"type\":\"scattergeo\"}],\"scattergl\":[{\"marker\":{\"line\":{\"color\":\"#283442\"}},\"type\":\"scattergl\"}],\"scattermapbox\":[{\"marker\":{\"colorbar\":{\"outlinewidth\":0,\"ticks\":\"\"}},\"type\":\"scattermapbox\"}],\"scatterpolargl\":[{\"marker\":{\"colorbar\":{\"outlinewidth\":0,\"ticks\":\"\"}},\"type\":\"scatterpolargl\"}],\"scatterpolar\":[{\"marker\":{\"colorbar\":{\"outlinewidth\":0,\"ticks\":\"\"}},\"type\":\"scatterpolar\"}],\"scatter\":[{\"marker\":{\"line\":{\"color\":\"#283442\"}},\"type\":\"scatter\"}],\"scatterternary\":[{\"marker\":{\"colorbar\":{\"outlinewidth\":0,\"ticks\":\"\"}},\"type\":\"scatterternary\"}],\"surface\":[{\"colorbar\":{\"outlinewidth\":0,\"ticks\":\"\"},\"colorscale\":[[0.0,\"#0d0887\"],[0.1111111111111111,\"#46039f\"],[0.2222222222222222,\"#7201a8\"],[0.3333333333333333,\"#9c179e\"],[0.4444444444444444,\"#bd3786\"],[0.5555555555555556,\"#d8576b\"],[0.6666666666666666,\"#ed7953\"],[0.7777777777777778,\"#fb9f3a\"],[0.8888888888888888,\"#fdca26\"],[1.0,\"#f0f921\"]],\"type\":\"surface\"}],\"table\":[{\"cells\":{\"fill\":{\"color\":\"#506784\"},\"line\":{\"color\":\"rgb(17,17,17)\"}},\"header\":{\"fill\":{\"color\":\"#2a3f5f\"},\"line\":{\"color\":\"rgb(17,17,17)\"}},\"type\":\"table\"}]},\"layout\":{\"annotationdefaults\":{\"arrowcolor\":\"#f2f5fa\",\"arrowhead\":0,\"arrowwidth\":1},\"autotypenumbers\":\"strict\",\"coloraxis\":{\"colorbar\":{\"outlinewidth\":0,\"ticks\":\"\"}},\"colorscale\":{\"diverging\":[[0,\"#8e0152\"],[0.1,\"#c51b7d\"],[0.2,\"#de77ae\"],[0.3,\"#f1b6da\"],[0.4,\"#fde0ef\"],[0.5,\"#f7f7f7\"],[0.6,\"#e6f5d0\"],[0.7,\"#b8e186\"],[0.8,\"#7fbc41\"],[0.9,\"#4d9221\"],[1,\"#276419\"]],\"sequential\":[[0.0,\"#0d0887\"],[0.1111111111111111,\"#46039f\"],[0.2222222222222222,\"#7201a8\"],[0.3333333333333333,\"#9c179e\"],[0.4444444444444444,\"#bd3786\"],[0.5555555555555556,\"#d8576b\"],[0.6666666666666666,\"#ed7953\"],[0.7777777777777778,\"#fb9f3a\"],[0.8888888888888888,\"#fdca26\"],[1.0,\"#f0f921\"]],\"sequentialminus\":[[0.0,\"#0d0887\"],[0.1111111111111111,\"#46039f\"],[0.2222222222222222,\"#7201a8\"],[0.3333333333333333,\"#9c179e\"],[0.4444444444444444,\"#bd3786\"],[0.5555555555555556,\"#d8576b\"],[0.6666666666666666,\"#ed7953\"],[0.7777777777777778,\"#fb9f3a\"],[0.8888888888888888,\"#fdca26\"],[1.0,\"#f0f921\"]]},\"colorway\":[\"#636efa\",\"#EF553B\",\"#00cc96\",\"#ab63fa\",\"#FFA15A\",\"#19d3f3\",\"#FF6692\",\"#B6E880\",\"#FF97FF\",\"#FECB52\"],\"font\":{\"color\":\"#f2f5fa\"},\"geo\":{\"bgcolor\":\"rgb(17,17,17)\",\"lakecolor\":\"rgb(17,17,17)\",\"landcolor\":\"rgb(17,17,17)\",\"showlakes\":true,\"showland\":true,\"subunitcolor\":\"#506784\"},\"hoverlabel\":{\"align\":\"left\"},\"hovermode\":\"closest\",\"mapbox\":{\"style\":\"dark\"},\"paper_bgcolor\":\"rgb(17,17,17)\",\"plot_bgcolor\":\"rgb(17,17,17)\",\"polar\":{\"angularaxis\":{\"gridcolor\":\"#506784\",\"linecolor\":\"#506784\",\"ticks\":\"\"},\"bgcolor\":\"rgb(17,17,17)\",\"radialaxis\":{\"gridcolor\":\"#506784\",\"linecolor\":\"#506784\",\"ticks\":\"\"}},\"scene\":{\"xaxis\":{\"backgroundcolor\":\"rgb(17,17,17)\",\"gridcolor\":\"#506784\",\"gridwidth\":2,\"linecolor\":\"#506784\",\"showbackground\":true,\"ticks\":\"\",\"zerolinecolor\":\"#C8D4E3\"},\"yaxis\":{\"backgroundcolor\":\"rgb(17,17,17)\",\"gridcolor\":\"#506784\",\"gridwidth\":2,\"linecolor\":\"#506784\",\"showbackground\":true,\"ticks\":\"\",\"zerolinecolor\":\"#C8D4E3\"},\"zaxis\":{\"backgroundcolor\":\"rgb(17,17,17)\",\"gridcolor\":\"#506784\",\"gridwidth\":2,\"linecolor\":\"#506784\",\"showbackground\":true,\"ticks\":\"\",\"zerolinecolor\":\"#C8D4E3\"}},\"shapedefaults\":{\"line\":{\"color\":\"#f2f5fa\"}},\"sliderdefaults\":{\"bgcolor\":\"#C8D4E3\",\"bordercolor\":\"rgb(17,17,17)\",\"borderwidth\":1,\"tickwidth\":0},\"ternary\":{\"aaxis\":{\"gridcolor\":\"#506784\",\"linecolor\":\"#506784\",\"ticks\":\"\"},\"baxis\":{\"gridcolor\":\"#506784\",\"linecolor\":\"#506784\",\"ticks\":\"\"},\"bgcolor\":\"rgb(17,17,17)\",\"caxis\":{\"gridcolor\":\"#506784\",\"linecolor\":\"#506784\",\"ticks\":\"\"}},\"title\":{\"x\":0.05},\"updatemenudefaults\":{\"bgcolor\":\"#506784\",\"borderwidth\":0},\"xaxis\":{\"automargin\":true,\"gridcolor\":\"#283442\",\"linecolor\":\"#506784\",\"ticks\":\"\",\"title\":{\"standoff\":15},\"zerolinecolor\":\"#283442\",\"zerolinewidth\":2},\"yaxis\":{\"automargin\":true,\"gridcolor\":\"#283442\",\"linecolor\":\"#506784\",\"ticks\":\"\",\"title\":{\"standoff\":15},\"zerolinecolor\":\"#283442\",\"zerolinewidth\":2}}},\"mapbox\":{\"domain\":{\"x\":[0.0,1.0],\"y\":[0.0,1.0]},\"center\":{\"lat\":-37.8136,\"lon\":144.9631},\"zoom\":12,\"style\":\"open-street-map\"},\"coloraxis\":{\"colorbar\":{\"title\":{\"text\":\"Price\"}},\"colorscale\":[[0.0,\"#000000\"],[0.0625,\"#001f4d\"],[0.125,\"#003786\"],[0.1875,\"#0e58a8\"],[0.25,\"#217eb8\"],[0.3125,\"#30a4ca\"],[0.375,\"#54c8df\"],[0.4375,\"#9be4ef\"],[0.5,\"#e1e9d1\"],[0.5625,\"#f3d573\"],[0.625,\"#e7b000\"],[0.6875,\"#da8200\"],[0.75,\"#c65400\"],[0.8125,\"#ac2301\"],[0.875,\"#820000\"],[0.9375,\"#4c0000\"],[1.0,\"#000000\"]]},\"legend\":{\"tracegroupgap\":0,\"itemsizing\":\"constant\"},\"title\":{\"text\":\"Average Price in different suburbs and regions\"},\"geo\":{\"fitbounds\":\"locations\",\"visible\":true,\"projection\":{\"type\":\"orthographic\"}},\"margin\":{\"l\":20,\"r\":20,\"t\":40,\"b\":20}},                        {\"responsive\": true}                    ).then(function(){\n",
       "                            \n",
       "var gd = document.getElementById('2c13e14d-feac-455b-b7d2-305e82c471ff');\n",
       "var x = new MutationObserver(function (mutations, observer) {{\n",
       "        var display = window.getComputedStyle(gd).display;\n",
       "        if (!display || display === 'none') {{\n",
       "            console.log([gd, 'removed!']);\n",
       "            Plotly.purge(gd);\n",
       "            observer.disconnect();\n",
       "        }}\n",
       "}});\n",
       "\n",
       "// Listen for the removal of the full notebook cells\n",
       "var notebookContainer = gd.closest('#notebook-container');\n",
       "if (notebookContainer) {{\n",
       "    x.observe(notebookContainer, {childList: true});\n",
       "}}\n",
       "\n",
       "// Listen for the clearing of the current output cell\n",
       "var outputEl = gd.closest('.output');\n",
       "if (outputEl) {{\n",
       "    x.observe(outputEl, {childList: true});\n",
       "}}\n",
       "\n",
       "                        })                };                });            </script>        </div>"
      ]
     },
     "metadata": {},
     "output_type": "display_data"
    }
   ],
   "source": [
    "map_suburb = Main_data.groupby(['Suburb','Regionname'],as_index=False)['Lattitude','Longtitude','Price'].median()\n",
    "map_suburb\n",
    "\n",
    "fig = px.scatter_mapbox(map_suburb,\n",
    "                        lat=\"Lattitude\",\n",
    "                        lon=\"Longtitude\",\n",
    "                        color='Price',\n",
    "                        mapbox_style='open-street-map',\n",
    "                        hover_name='Suburb',\n",
    "                        color_continuous_scale=px.colors.cyclical.IceFire,\n",
    "                        size='Price',\n",
    "                        center={\"lat\": -37.8136, \"lon\": 144.9631},\n",
    "                        zoom=12,\n",
    "                        hover_data=['Regionname','Suburb','Price'],\n",
    "                       title='Average Price in different suburbs and regions')\n",
    "fig.update_geos(fitbounds=\"locations\", visible=True)\n",
    "fig.update_geos(projection_type=\"orthographic\")\n",
    "fig.update_layout(template='plotly_dark',margin=dict(l=20,r=20,t=40,b=20))\n",
    "fig.show()"
   ]
  },
  {
   "cell_type": "code",
   "execution_count": 47,
   "id": "73738b06",
   "metadata": {},
   "outputs": [
    {
     "data": {
      "text/plain": [
       "array(['Northern Metropolitan', 'Western Metropolitan',\n",
       "       'Southern Metropolitan', 'Eastern Metropolitan',\n",
       "       'South-Eastern Metropolitan', 'Northern Victoria',\n",
       "       'Eastern Victoria', 'Western Victoria'], dtype=object)"
      ]
     },
     "execution_count": 47,
     "metadata": {},
     "output_type": "execute_result"
    }
   ],
   "source": [
    "Main_data[\"Regionname\"].unique()"
   ]
  },
  {
   "cell_type": "code",
   "execution_count": 48,
   "id": "6d21f429",
   "metadata": {},
   "outputs": [
    {
     "data": {
      "text/html": [
       "<div>\n",
       "<style scoped>\n",
       "    .dataframe tbody tr th:only-of-type {\n",
       "        vertical-align: middle;\n",
       "    }\n",
       "\n",
       "    .dataframe tbody tr th {\n",
       "        vertical-align: top;\n",
       "    }\n",
       "\n",
       "    .dataframe thead th {\n",
       "        text-align: right;\n",
       "    }\n",
       "</style>\n",
       "<table border=\"1\" class=\"dataframe\">\n",
       "  <thead>\n",
       "    <tr style=\"text-align: right;\">\n",
       "      <th></th>\n",
       "      <th>Suburb</th>\n",
       "      <th>Address</th>\n",
       "      <th>Rooms</th>\n",
       "      <th>Type</th>\n",
       "      <th>Price</th>\n",
       "      <th>Method</th>\n",
       "      <th>Real Estate Agent</th>\n",
       "      <th>Date</th>\n",
       "      <th>Distance</th>\n",
       "      <th>Postcode</th>\n",
       "      <th>...</th>\n",
       "      <th>Median_age_persons</th>\n",
       "      <th>Median_mortgage_repay_monthly</th>\n",
       "      <th>Median_tot_prsnl_inc_weekly</th>\n",
       "      <th>Median_rent_weekly</th>\n",
       "      <th>Median_tot_fam_inc_weekly</th>\n",
       "      <th>Average_num_psns_per_bedroom</th>\n",
       "      <th>Median_tot_hhd_inc_weekly</th>\n",
       "      <th>Average_household_size</th>\n",
       "      <th>Year</th>\n",
       "      <th>Month</th>\n",
       "    </tr>\n",
       "  </thead>\n",
       "  <tbody>\n",
       "    <tr>\n",
       "      <th>8650</th>\n",
       "      <td>Mulgrave</td>\n",
       "      <td>35 Bevis St</td>\n",
       "      <td>3</td>\n",
       "      <td>h</td>\n",
       "      <td>9000000</td>\n",
       "      <td>PI</td>\n",
       "      <td>Hall</td>\n",
       "      <td>2017-07-29</td>\n",
       "      <td>18.8</td>\n",
       "      <td>3170</td>\n",
       "      <td>...</td>\n",
       "      <td>40</td>\n",
       "      <td>2167</td>\n",
       "      <td>746</td>\n",
       "      <td>430</td>\n",
       "      <td>2134</td>\n",
       "      <td>0.8</td>\n",
       "      <td>1913</td>\n",
       "      <td>2.8</td>\n",
       "      <td>2017</td>\n",
       "      <td>7</td>\n",
       "    </tr>\n",
       "    <tr>\n",
       "      <th>1782</th>\n",
       "      <td>Canterbury</td>\n",
       "      <td>49 Mangarra Rd</td>\n",
       "      <td>5</td>\n",
       "      <td>h</td>\n",
       "      <td>8000000</td>\n",
       "      <td>VB</td>\n",
       "      <td>Sotheby's</td>\n",
       "      <td>2017-05-13</td>\n",
       "      <td>9.0</td>\n",
       "      <td>3126</td>\n",
       "      <td>...</td>\n",
       "      <td>46</td>\n",
       "      <td>3500</td>\n",
       "      <td>1101</td>\n",
       "      <td>515</td>\n",
       "      <td>3591</td>\n",
       "      <td>0.8</td>\n",
       "      <td>2875</td>\n",
       "      <td>2.7</td>\n",
       "      <td>2017</td>\n",
       "      <td>5</td>\n",
       "    </tr>\n",
       "    <tr>\n",
       "      <th>3619</th>\n",
       "      <td>Hawthorn</td>\n",
       "      <td>49 Lisson Gr</td>\n",
       "      <td>4</td>\n",
       "      <td>h</td>\n",
       "      <td>7650000</td>\n",
       "      <td>S</td>\n",
       "      <td>Abercromby's</td>\n",
       "      <td>2017-06-17</td>\n",
       "      <td>5.3</td>\n",
       "      <td>3122</td>\n",
       "      <td>...</td>\n",
       "      <td>34</td>\n",
       "      <td>2259</td>\n",
       "      <td>1207</td>\n",
       "      <td>400</td>\n",
       "      <td>3279</td>\n",
       "      <td>0.9</td>\n",
       "      <td>2145</td>\n",
       "      <td>2.1</td>\n",
       "      <td>2017</td>\n",
       "      <td>6</td>\n",
       "    </tr>\n",
       "    <tr>\n",
       "      <th>4001</th>\n",
       "      <td>Kew</td>\n",
       "      <td>15 Barry St</td>\n",
       "      <td>6</td>\n",
       "      <td>h</td>\n",
       "      <td>6500000</td>\n",
       "      <td>S</td>\n",
       "      <td>Jellis</td>\n",
       "      <td>2016-08-13</td>\n",
       "      <td>5.6</td>\n",
       "      <td>3101</td>\n",
       "      <td>...</td>\n",
       "      <td>41</td>\n",
       "      <td>3000</td>\n",
       "      <td>1120</td>\n",
       "      <td>476</td>\n",
       "      <td>3301</td>\n",
       "      <td>0.8</td>\n",
       "      <td>2497</td>\n",
       "      <td>2.5</td>\n",
       "      <td>2016</td>\n",
       "      <td>8</td>\n",
       "    </tr>\n",
       "    <tr>\n",
       "      <th>193</th>\n",
       "      <td>Middle Park</td>\n",
       "      <td>136 Page St</td>\n",
       "      <td>5</td>\n",
       "      <td>h</td>\n",
       "      <td>6400000</td>\n",
       "      <td>S</td>\n",
       "      <td>Marshall</td>\n",
       "      <td>2017-09-09</td>\n",
       "      <td>3.0</td>\n",
       "      <td>3206</td>\n",
       "      <td>...</td>\n",
       "      <td>46</td>\n",
       "      <td>3467</td>\n",
       "      <td>1372</td>\n",
       "      <td>600</td>\n",
       "      <td>3853</td>\n",
       "      <td>0.9</td>\n",
       "      <td>2659</td>\n",
       "      <td>2.3</td>\n",
       "      <td>2017</td>\n",
       "      <td>9</td>\n",
       "    </tr>\n",
       "  </tbody>\n",
       "</table>\n",
       "<p>5 rows × 30 columns</p>\n",
       "</div>"
      ],
      "text/plain": [
       "           Suburb         Address  Rooms Type    Price Method  \\\n",
       "8650     Mulgrave     35 Bevis St      3    h  9000000     PI   \n",
       "1782   Canterbury  49 Mangarra Rd      5    h  8000000     VB   \n",
       "3619     Hawthorn    49 Lisson Gr      4    h  7650000      S   \n",
       "4001          Kew     15 Barry St      6    h  6500000      S   \n",
       "193   Middle Park     136 Page St      5    h  6400000      S   \n",
       "\n",
       "     Real Estate Agent       Date  Distance  Postcode  ...  \\\n",
       "8650              Hall 2017-07-29      18.8      3170  ...   \n",
       "1782         Sotheby's 2017-05-13       9.0      3126  ...   \n",
       "3619      Abercromby's 2017-06-17       5.3      3122  ...   \n",
       "4001            Jellis 2016-08-13       5.6      3101  ...   \n",
       "193           Marshall 2017-09-09       3.0      3206  ...   \n",
       "\n",
       "      Median_age_persons  Median_mortgage_repay_monthly  \\\n",
       "8650                  40                           2167   \n",
       "1782                  46                           3500   \n",
       "3619                  34                           2259   \n",
       "4001                  41                           3000   \n",
       "193                   46                           3467   \n",
       "\n",
       "      Median_tot_prsnl_inc_weekly  Median_rent_weekly  \\\n",
       "8650                          746                 430   \n",
       "1782                         1101                 515   \n",
       "3619                         1207                 400   \n",
       "4001                         1120                 476   \n",
       "193                          1372                 600   \n",
       "\n",
       "      Median_tot_fam_inc_weekly Average_num_psns_per_bedroom  \\\n",
       "8650                       2134                          0.8   \n",
       "1782                       3591                          0.8   \n",
       "3619                       3279                          0.9   \n",
       "4001                       3301                          0.8   \n",
       "193                        3853                          0.9   \n",
       "\n",
       "      Median_tot_hhd_inc_weekly  Average_household_size  Year  Month  \n",
       "8650                       1913                     2.8  2017      7  \n",
       "1782                       2875                     2.7  2017      5  \n",
       "3619                       2145                     2.1  2017      6  \n",
       "4001                       2497                     2.5  2016      8  \n",
       "193                        2659                     2.3  2017      9  \n",
       "\n",
       "[5 rows x 30 columns]"
      ]
     },
     "execution_count": 48,
     "metadata": {},
     "output_type": "execute_result"
    }
   ],
   "source": [
    "# sort the dataset based on price from highest to lowest\n",
    "high_to_low_price=Main_data.sort_values(\"Price\" , ascending=False)\n",
    "high_to_low_price.index.name = None\n",
    "high_to_low_price.head(5)"
   ]
  },
  {
   "cell_type": "markdown",
   "id": "6f636387",
   "metadata": {},
   "source": [
    "Things to consider:\n",
    "•\tOnly consider properties between 800k to 1 million dollars.\n",
    "•\tOnly consider free standing homes, i.e., no apartments or townhouses.\n",
    "•\tCompare top 5 suburbs in the northern, eastern, western, and southern regions of Melbourne in terms of:\n",
    "Sale price\n",
    "Distance to cbd\n",
    "Distance to major shopping centres\n",
    "Distance to public transport\n",
    "Proximity to schools \n",
    "•\tCorrelation between lifestyle choice and which location people choose to live, i.e., singles and young couple’s vs families\n",
    "•\tCorrelation between disposable income and people’s willingness to take on debt.\n"
   ]
  },
  {
   "cell_type": "code",
   "execution_count": 50,
   "id": "4a50c54b",
   "metadata": {},
   "outputs": [],
   "source": [
    "#Only consider properties between 800k to 1 million dollars.\n",
    "mid_price=Main_data.loc[(Main_data[\"Price\"] >= 800000) & (Main_data[\"Price\"] <= 1000000)]\n"
   ]
  },
  {
   "cell_type": "code",
   "execution_count": 16,
   "id": "d11993d6",
   "metadata": {},
   "outputs": [],
   "source": [
    "mid_price_h=mid_price.loc[mid_price[\"Type\"] == \"h\"]"
   ]
  },
  {
   "cell_type": "code",
   "execution_count": 250,
   "id": "e64bffe5",
   "metadata": {},
   "outputs": [
    {
     "data": {
      "image/png": "[encoded data removed]",
      "text/plain": [
       "<Figure size 720x576 with 1 Axes>"
      ]
     },
     "metadata": {
      "needs_background": "light"
     },
     "output_type": "display_data"
    }
   ],
   "source": [
    "#ploting number of houses sold per month\n",
    "sold_per_month=mid_price_h.groupby(\"Month\")[\"Address\"].count()\n",
    "sold_per_month_chart=sold_per_month.plot(kind=\"bar\" , figsize=(10,8))\n",
    "sold_per_month_chart.set_title(\"Number of houses sold per month\")\n",
    "sold_per_month_chart.set_xlabel(\"Month\")\n",
    "sold_per_month_chart.set_ylabel(\"Number of houses\")\n",
    "plt.savefig(\"sale_per_month.png\" , dpi=80)\n",
    "plt.show()"
   ]
  },
  {
   "cell_type": "code",
   "execution_count": null,
   "id": "23bb1016",
   "metadata": {},
   "outputs": [],
   "source": [
    "#Compare northern, eastern, western, and southern regions of Melbourne in terms of Sale price\n",
    "#Top highest price in Northern\n",
    "#4 bedrooms houses\n",
    "#from CBD less than 10K"
   ]
  },
  {
   "cell_type": "code",
   "execution_count": 192,
   "id": "730a7d01",
   "metadata": {},
   "outputs": [],
   "source": [
    "#Northern Suburb\n",
    "northern=mid_price_h.loc[(mid_price_h['Regionname']== 'Northern Metropolitan') & \n",
    "                         (mid_price_h['Rooms'] == 4) &\n",
    "                         (mid_price_h[\"Number of Bathroom\"] == 2) &\n",
    "                         (mid_price_h['Distance'] <= 10),:]\n"
   ]
  },
  {
   "cell_type": "code",
   "execution_count": 251,
   "id": "4d5f6534",
   "metadata": {},
   "outputs": [
    {
     "data": {
      "image/png": "[encoded data removed]",
      "text/plain": [
       "<Figure size 576x432 with 1 Axes>"
      ]
     },
     "metadata": {
      "needs_background": "light"
     },
     "output_type": "display_data"
    }
   ],
   "source": [
    "#plotting number of properties by suburb\n",
    "Bar_plot_data=northern.groupby(\"Suburb\")[\"Address\"].count()\n",
    "bar_plot_data=Bar_plot_data.sort_values(ascending=False)\n",
    "bar_chart=bar_plot_data.plot(kind=\"bar\" , figsize=(8,6))\n",
    "bar_chart.set_ylabel(\"Number of sold properties\")\n",
    "bar_chart.set_title(\"Number of sold properties by suburb\")\n",
    "bar_chart.set_xlabel(\"Suburbs in Northern Metropolitan\")\n",
    "plt.tight_layout()\n",
    "plt.savefig(\"Northern.png\" , dpi=80)\n",
    "plt.show()\n"
   ]
  },
  {
   "cell_type": "code",
   "execution_count": 194,
   "id": "c455e77e",
   "metadata": {},
   "outputs": [],
   "source": [
    "#Western suburbs\n",
    "southern=mid_price_h.loc[(mid_price_h['Regionname']== 'Southern Metropolitan') & \n",
    "                         (mid_price_h['Rooms'] == 4) &\n",
    "                         (mid_price_h[\"Number of Bathroom\"] == 2) &\n",
    "                         (mid_price_h['Distance'] <= 10),:]\n",
    "\n"
   ]
  },
  {
   "cell_type": "code",
   "execution_count": 252,
   "id": "34eba78c",
   "metadata": {},
   "outputs": [
    {
     "data": {
      "image/png": "[encoded data removed]",
      "text/plain": [
       "<Figure size 576x432 with 1 Axes>"
      ]
     },
     "metadata": {
      "needs_background": "light"
     },
     "output_type": "display_data"
    }
   ],
   "source": [
    "#plotting number of properties by suburb\n",
    "Bar_plot_data=southern.groupby(\"Suburb\")[\"Address\"].count()\n",
    "bar_plot_data=Bar_plot_data.sort_values(ascending=False)\n",
    "bar_chart=bar_plot_data.plot(kind=\"bar\" , figsize=(8,6))\n",
    "bar_chart.set_ylabel(\"Number of sold properties\")\n",
    "bar_chart.set_xlabel(\"Suburbs in Southern Metropolitan\")\n",
    "bar_chart.set_title(\"Number of sold properties by suburb\")\n",
    "plt.tight_layout()\n",
    "plt.savefig(\"southern.png\" , dpi=80)\n",
    "plt.show()\n"
   ]
  },
  {
   "cell_type": "code",
   "execution_count": 199,
   "id": "f93b9d5c",
   "metadata": {},
   "outputs": [],
   "source": [
    "# Western suburbs\n",
    "western= mid_price_h.loc[(mid_price_h['Regionname']== 'Western Metropolitan') & \n",
    "                         (mid_price_h['Rooms'] == 4) &\n",
    "                         (mid_price_h[\"Number of Bathroom\"] == 2) &\n",
    "                         (mid_price_h['Distance'] <= 10),:]"
   ]
  },
  {
   "cell_type": "code",
   "execution_count": 253,
   "id": "dd9f76be",
   "metadata": {},
   "outputs": [
    {
     "data": {
      "image/png": "[encoded data removed]",
      "text/plain": [
       "<Figure size 576x432 with 1 Axes>"
      ]
     },
     "metadata": {
      "needs_background": "light"
     },
     "output_type": "display_data"
    }
   ],
   "source": [
    "#plotting number of properties by suburb\n",
    "Bar_plot_data=western.groupby(\"Suburb\")[\"Address\"].count()\n",
    "bar_plot_data=Bar_plot_data.sort_values(ascending=False)\n",
    "bar_chart=bar_plot_data.plot(kind=\"bar\" , figsize=(8,6))\n",
    "bar_chart.set_ylabel(\"Number of sold properties\")\n",
    "bar_chart.set_xlabel(\"Suburbs in Western Metropolitan\")\n",
    "bar_chart.set_title(\"Number of sold properties by suburb\")\n",
    "plt.tight_layout()\n",
    "plt.savefig(\"Western.png\" , dpi=80)\n",
    "plt.show()\n"
   ]
  },
  {
   "cell_type": "code",
   "execution_count": 211,
   "id": "0fe40043",
   "metadata": {},
   "outputs": [],
   "source": [
    "#Eastern suburbs\n",
    "eastern=mid_price_h.loc[(mid_price_h[\"Regionname\"]== \"Eastern Metropolitan\") & \\\n",
    "                         (mid_price_h[\"Rooms\"]==4) &\\\n",
    "                         (mid_price_h[\"Distance\"] <= 10) &(mid_price_h[\"number of carpark\"] >= 1),:]"
   ]
  },
  {
   "cell_type": "code",
   "execution_count": 212,
   "id": "f7c352bd",
   "metadata": {},
   "outputs": [
    {
     "data": {
      "text/html": [
       "<div>\n",
       "<style scoped>\n",
       "    .dataframe tbody tr th:only-of-type {\n",
       "        vertical-align: middle;\n",
       "    }\n",
       "\n",
       "    .dataframe tbody tr th {\n",
       "        vertical-align: top;\n",
       "    }\n",
       "\n",
       "    .dataframe thead th {\n",
       "        text-align: right;\n",
       "    }\n",
       "</style>\n",
       "<table border=\"1\" class=\"dataframe\">\n",
       "  <thead>\n",
       "    <tr style=\"text-align: right;\">\n",
       "      <th></th>\n",
       "      <th>Suburb</th>\n",
       "      <th>Address</th>\n",
       "      <th>Rooms</th>\n",
       "      <th>Type</th>\n",
       "      <th>Price</th>\n",
       "      <th>Method</th>\n",
       "      <th>Real Estate Agent</th>\n",
       "      <th>Date</th>\n",
       "      <th>Distance</th>\n",
       "      <th>Postcode</th>\n",
       "      <th>...</th>\n",
       "      <th>Median_age_persons</th>\n",
       "      <th>Median_mortgage_repay_monthly</th>\n",
       "      <th>Median_tot_prsnl_inc_weekly</th>\n",
       "      <th>Median_rent_weekly</th>\n",
       "      <th>Median_tot_fam_inc_weekly</th>\n",
       "      <th>Average_num_psns_per_bedroom</th>\n",
       "      <th>Median_tot_hhd_inc_weekly</th>\n",
       "      <th>Average_household_size</th>\n",
       "      <th>Year</th>\n",
       "      <th>Month</th>\n",
       "    </tr>\n",
       "  </thead>\n",
       "  <tbody>\n",
       "  </tbody>\n",
       "</table>\n",
       "<p>0 rows × 30 columns</p>\n",
       "</div>"
      ],
      "text/plain": [
       "Empty DataFrame\n",
       "Columns: [Suburb, Address, Rooms, Type, Price, Method, Real Estate Agent, Date, Distance, Postcode, Number of Bathroom, number of carpark, Landsize, BuildingArea, YearBuilt, CouncilArea, Lattitude, Longtitude, Regionname, Propertycount, Median_age_persons, Median_mortgage_repay_monthly, Median_tot_prsnl_inc_weekly, Median_rent_weekly, Median_tot_fam_inc_weekly, Average_num_psns_per_bedroom, Median_tot_hhd_inc_weekly, Average_household_size, Year, Month]\n",
       "Index: []\n",
       "\n",
       "[0 rows x 30 columns]"
      ]
     },
     "execution_count": 212,
     "metadata": {},
     "output_type": "execute_result"
    }
   ],
   "source": [
    "eastern"
   ]
  },
  {
   "cell_type": "code",
   "execution_count": 254,
   "id": "291d3a7d",
   "metadata": {},
   "outputs": [
    {
     "data": {
      "image/png": "[encoded data removed]",
      "text/plain": [
       "<Figure size 2160x1728 with 2 Axes>"
      ]
     },
     "metadata": {
      "needs_background": "light"
     },
     "output_type": "display_data"
    }
   ],
   "source": [
    "#plot correlation heatmap for all the variation\n",
    "\n",
    "plt.figure(figsize = (30,24))\n",
    "sns.heatmap(Main_data.corr(), cmap = 'YlGnBu', linewidth = 1, annot = True, annot_kws = {'size':12})\n",
    "plt.title('Variable Correlation')\n",
    "plt.savefig(\"heatmap.png\" , dpi=80)\n",
    "plt.show()"
   ]
  },
  {
   "cell_type": "code",
   "execution_count": null,
   "id": "a64dbfed",
   "metadata": {},
   "outputs": [],
   "source": [
    "# Define a function to measure correlation\n",
    "def correlation():\n",
    "    corr=st.pearsonr(x_values, y_values)\n",
    "    print(f'the correlation between both factor is : {round(corr[0],2)}')"
   ]
  },
  {
   "cell_type": "code",
   "execution_count": 255,
   "id": "b4922ec2",
   "metadata": {},
   "outputs": [
    {
     "data": {
      "image/png": "[encoded data removed]",
      "text/plain": [
       "<Figure size 432x288 with 1 Axes>"
      ]
     },
     "metadata": {
      "needs_background": "light"
     },
     "output_type": "display_data"
    },
    {
     "name": "stdout",
     "output_type": "stream",
     "text": [
      "the correlation between both factor is : 0.48\n"
     ]
    }
   ],
   "source": [
    "#Scatterplot between price and rooms\n",
    "x_values=Main_data[\"Rooms\"]\n",
    "y_values=Main_data[\"Price\"]\n",
    "(slope, intercept, rvalue, pvalue, stderr)=linregress(x_values, y_values)\n",
    "regress_values=x_values * slope + intercept\n",
    "plt.scatter(x_values,y_values)\n",
    "plt.plot(x_values, regress_values,\"r-\")\n",
    "line_eq=\"y=\" + str(round(slope, 2)) + \"x+\" + str(round(intercept, 2))\n",
    "plt.annotate(line_eq,(4,7000000),fontsize=15,color=\"red\")\n",
    "plt.xlabel(\"Number of bedrooms\")\n",
    "plt.ylabel(\"price $\")\n",
    "plt.title(\"Price vs number of bedrooms\")\n",
    "plt.savefig(\"Price_vs_rooms.png\" , dpi=80)\n",
    "plt.show()\n",
    "correlation()"
   ]
  },
  {
   "cell_type": "code",
   "execution_count": 256,
   "id": "d7205193",
   "metadata": {},
   "outputs": [
    {
     "data": {
      "image/png": "[encoded data removed]",
      "text/plain": [
       "<Figure size 432x288 with 1 Axes>"
      ]
     },
     "metadata": {
      "needs_background": "light"
     },
     "output_type": "display_data"
    },
    {
     "name": "stdout",
     "output_type": "stream",
     "text": [
      "the correlation between both factor is : 0.06\n"
     ]
    }
   ],
   "source": [
    "#Scatterplot between price and landsize\n",
    "x_values=Main_data[\"Landsize\"]\n",
    "y_values=Main_data[\"Price\"]\n",
    "(slope, intercept, rvalue, pvalue, stderr)=linregress(x_values, y_values)\n",
    "regress_values=x_values * slope + intercept\n",
    "plt.scatter(x_values,y_values)\n",
    "plt.plot(x_values, regress_values,\"r-\")\n",
    "line_eq=\"y=\" + str(round(slope, 2)) + \"x+\" + str(round(intercept, 2))\n",
    "plt.annotate(line_eq,(4,7000000),fontsize=15,color=\"red\")\n",
    "plt.xlabel(\"Landsize (m2)\")\n",
    "plt.ylabel(\"price $\")\n",
    "plt.title(\"Price vs landsize\")\n",
    "plt.savefig(\"Price_vs_landsize.png\" , dpi=80)\n",
    "plt.show()\n",
    "correlation()"
   ]
  },
  {
   "cell_type": "code",
   "execution_count": 257,
   "id": "b6e5545c",
   "metadata": {},
   "outputs": [
    {
     "data": {
      "image/png": "[encoded data removed]",
      "text/plain": [
       "<Figure size 432x288 with 1 Axes>"
      ]
     },
     "metadata": {
      "needs_background": "light"
     },
     "output_type": "display_data"
    },
    {
     "name": "stdout",
     "output_type": "stream",
     "text": [
      "the correlation between both factor is : -0.23\n"
     ]
    }
   ],
   "source": [
    "#Scatterplot between price and Distance\n",
    "x_values=Main_data[\"Distance\"]\n",
    "y_values=Main_data[\"Price\"]\n",
    "(slope, intercept, rvalue, pvalue, stderr)=linregress(x_values, y_values)\n",
    "regress_values=x_values * slope + intercept\n",
    "plt.scatter(x_values,y_values)\n",
    "plt.plot(x_values, regress_values,\"r-\")\n",
    "line_eq=\"y=\" + str(round(slope, 2)) + \"x+\" + str(round(intercept, 2))\n",
    "plt.annotate(line_eq,(4,7000000),fontsize=15,color=\"red\")\n",
    "plt.xlabel(\"Distance from CBD (km)\")\n",
    "plt.ylabel(\"price $\")\n",
    "plt.title(\"Price vs Distance from CBD (km)\")\n",
    "plt.savefig(\"Price_vs_Distance.png\" , dpi=80)\n",
    "plt.show()\n",
    "correlation()"
   ]
  },
  {
   "cell_type": "code",
   "execution_count": null,
   "id": "746c67b7",
   "metadata": {},
   "outputs": [],
   "source": []
  }
 ],
 "metadata": {
  "kernelspec": {
   "display_name": "Python 3 (ipykernel)",
   "language": "python",
   "name": "python3"
  },
  "language_info": {
   "codemirror_mode": {
    "name": "ipython",
    "version": 3
   },
   "file_extension": ".py",
   "mimetype": "text/x-python",
   "name": "python",
   "nbconvert_exporter": "python",
   "pygments_lexer": "ipython3",
   "version": "3.7.7"
  }
 },
 "nbformat": 4,
 "nbformat_minor": 5
}
